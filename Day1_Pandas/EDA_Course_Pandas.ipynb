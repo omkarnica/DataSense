{
 "cells": [
  {
   "cell_type": "markdown",
   "id": "cee11869-cbcd-4d51-a0c5-56e44d3e9e65",
   "metadata": {},
   "source": [
    "# Python EDA Full Course- Data Sense - Libraries:- 1. Pandas"
   ]
  },
  {
   "cell_type": "markdown",
   "id": "965a705c-ffe0-4913-8e97-5980351d888c",
   "metadata": {},
   "source": [
    "# 1. Introduction\n",
    "\n",
    "**Overview of Pandas**\n",
    "\n",
    "Pandas is an open-source library in Python designed for data manipulation and analysis. It provides two primary data structures: Series and DataFrame. A Series is a one-dimensional array, while a DataFrame is a two-dimensional table (like an Excel spreadsheet) that allows you to store and manipulate data efficiently.\n",
    "\n",
    "**Why is it used?**\n",
    "\n",
    "Pandas is used because it makes handling large datasets simple and intuitive. It provides powerful tools for reading data from various sources (CSV, Excel, SQL databases), cleaning and transforming the data, and performing complex calculations and aggregations.\n",
    "\n",
    "**When to use Pandas?**\n",
    "\n",
    "Use Pandas when you need to analyze or manipulate structured data. For example, if you have data in tabular form (rows and columns) and need to perform operations like filtering, grouping, or calculating statistics, Pandas is the right tool.\n"
   ]
  },
  {
   "cell_type": "markdown",
   "id": "474a3a8f-8521-4495-bc43-d3d800593e0c",
   "metadata": {},
   "source": [
    "# 2. What This Library Does\n",
    "\n",
    "**Data Structures: Series and DataFrame**\n",
    "\n",
    "**1. Series:**\n",
    "\n",
    "A Series is like a column in an Excel spreadsheet, but it can hold any type of data: numbers, strings, dates, etc. Each element in a Series has a label, called an index, which makes it easy to access individual elements.\n",
    "\n",
    "**Example 1: Creating a Series**\n"
   ]
  },
  {
   "cell_type": "code",
   "execution_count": 2,
   "id": "cfc016c2-c589-44d9-9f92-7457cd5a6a6d",
   "metadata": {},
   "outputs": [
    {
     "name": "stdout",
     "output_type": "stream",
     "text": [
      "a    10\n",
      "b    20\n",
      "c    30\n",
      "d    40\n",
      "dtype: int64\n"
     ]
    }
   ],
   "source": [
    "import pandas as pd\n",
    "data = pd.Series([10, 20, 30, 40], index=['a', 'b', 'c', 'd'])\n",
    "print(data)\n"
   ]
  },
  {
   "cell_type": "markdown",
   "id": "13355087-fd6d-444c-82cb-fd8bf3f64a5d",
   "metadata": {},
   "source": [
    "**Explanation:**\n",
    "  \n",
    "Here, we create a Series with four numbers. Each number is associated with a label (a, b, c, d). This makes it easy to refer to specific elements using these labels."
   ]
  },
  {
   "cell_type": "markdown",
   "id": "9d783b1d-8ef2-46e8-b6d6-16bfc21320cc",
   "metadata": {},
   "source": [
    "**Example 2: Accessing an element in a Series**\n"
   ]
  },
  {
   "cell_type": "code",
   "execution_count": 20,
   "id": "fab9785f-6a2f-4c79-b8c3-fe4179e64329",
   "metadata": {},
   "outputs": [
    {
     "name": "stdout",
     "output_type": "stream",
     "text": [
      "20\n"
     ]
    }
   ],
   "source": [
    "print(data['b'])\n"
   ]
  },
  {
   "cell_type": "markdown",
   "id": "d0836ccd-fb48-4584-acad-33fe68ded195",
   "metadata": {},
   "source": [
    "**Explanation:**\n",
    "  \n",
    "You can access elements in a Series using their labels. Here, we retrieve the element labeled 'b', which is 20.\n"
   ]
  },
  {
   "cell_type": "code",
   "execution_count": null,
   "id": "f67de0ff-af91-4779-b9a8-2350a7d7ea62",
   "metadata": {},
   "outputs": [],
   "source": []
  },
  {
   "cell_type": "markdown",
   "id": "20b0cf59-00a4-431c-a407-b8bf77b33918",
   "metadata": {},
   "source": [
    "**2. DataFrame:**\n",
    "\n",
    "A DataFrame is like a table with rows and columns. It’s a two-dimensional structure where each column can contain different types of data (e.g., numbers in one column, strings in another).\n",
    "\n",
    "**Example 1: Creating a DataFrame:**\n"
   ]
  },
  {
   "cell_type": "code",
   "execution_count": 119,
   "id": "bdee9867-579c-4319-92d9-949497ac352b",
   "metadata": {},
   "outputs": [
    {
     "name": "stdout",
     "output_type": "stream",
     "text": [
      "    Name  Age      City\n",
      "0   John   28  New York\n",
      "1   Anna   24     Paris\n",
      "2  Peter   35    Berlin\n",
      "3  Linda   32    London\n"
     ]
    }
   ],
   "source": [
    "data = {\n",
    "    'Name': ['John', 'Anna', 'Peter', 'Linda'],\n",
    "    'Age': [28, 24, 35, 32],\n",
    "    'City': ['New York', 'Paris', 'Berlin', 'London']\n",
    "}\n",
    "df = pd.DataFrame(data)\n",
    "print(df)\n",
    "\n"
   ]
  },
  {
   "cell_type": "markdown",
   "id": "ede68b79-99a1-4088-8f61-47badefda62b",
   "metadata": {},
   "source": [
    "**Explanation:**\n",
    "  \n",
    "This creates a DataFrame from a dictionary where keys are column names (Name, Age, City), and values are lists of data for each column.\n"
   ]
  },
  {
   "cell_type": "markdown",
   "id": "ae9c2c7e-7d7e-450e-83a4-d04d505e2887",
   "metadata": {},
   "source": [
    "**Example 2: Accessing columns and rows**"
   ]
  },
  {
   "cell_type": "code",
   "execution_count": 28,
   "id": "2c68e138-159c-47d9-be8a-8cf95ae04378",
   "metadata": {},
   "outputs": [
    {
     "name": "stdout",
     "output_type": "stream",
     "text": [
      "0     John\n",
      "1     Anna\n",
      "2    Peter\n",
      "3    Linda\n",
      "Name: Name, dtype: object\n",
      "Name     Peter\n",
      "Age         35\n",
      "City    Berlin\n",
      "Name: 2, dtype: object\n"
     ]
    }
   ],
   "source": [
    "# Access a column\n",
    "print(df['Name'])\n",
    "\n",
    "# Access a row by index\n",
    "print(df.iloc[2])\n"
   ]
  },
  {
   "cell_type": "markdown",
   "id": "46f9a0d1-d6a4-4604-a965-5f387cd43c54",
   "metadata": {},
   "source": [
    "**Explanation:**\n",
    "  \n",
    "Accessing columns is straightforward by using the column name as a key. Accessing rows can be done using the .iloc[] method with the row index."
   ]
  },
  {
   "cell_type": "code",
   "execution_count": null,
   "id": "ff5f233b-e3c3-4561-b06d-7a667a68579e",
   "metadata": {},
   "outputs": [],
   "source": []
  },
  {
   "cell_type": "markdown",
   "id": "b45130e9-970f-4f33-ba90-bd766ae9893c",
   "metadata": {},
   "source": [
    "# 3. Most Common Uses\n",
    "\n",
    "**1. Data Importing and Exporting**\n",
    "\n",
    "**Example 1: Importing data from a CSV file**"
   ]
  },
  {
   "cell_type": "code",
   "execution_count": 123,
   "id": "d93e2f3b-cd4a-4099-8d1d-7be387170145",
   "metadata": {},
   "outputs": [
    {
     "name": "stdout",
     "output_type": "stream",
     "text": [
      "    Name  Age      City Occupation  Salary\n",
      "0   John   28  New York   Engineer   75000\n",
      "1   Anna   24     Paris     Doctor   68000\n",
      "2  Peter   35    Berlin     Artist   54000\n",
      "3  Linda   32    London     Lawyer   62000\n",
      "4  Steve   40   Chicago       Chef   80000\n"
     ]
    }
   ],
   "source": [
    "df = pd.read_csv('/Users/fnusatvik/desktop/eda_course/Pandas/sample_data.csv')\n",
    "print(df.head())\n"
   ]
  },
  {
   "cell_type": "markdown",
   "id": "8a977840-0757-49a4-969d-94e1e38a2dec",
   "metadata": {},
   "source": [
    "**Example 2: Exporting data to an Excel file**"
   ]
  },
  {
   "cell_type": "code",
   "execution_count": 48,
   "id": "9bcc1d46-8929-460f-9995-ba107995d156",
   "metadata": {},
   "outputs": [],
   "source": [
    "file_path = '/Users/fnusatvik/desktop/eda_course/Pandas/output.xlsx'  # Replace with your desired path\n",
    "df.to_excel(file_path, index=False)\n"
   ]
  },
  {
   "cell_type": "markdown",
   "id": "48dde020-2c73-48c8-b54d-6d7f37f9c7a3",
   "metadata": {},
   "source": [
    "**Explanation:**\n",
    "  \n",
    "The to_excel() method saves the DataFrame to an Excel file. The index=False argument prevents the row indices from being written to the file."
   ]
  },
  {
   "cell_type": "markdown",
   "id": "4f280076-76fc-434b-92e0-0375c042423c",
   "metadata": {},
   "source": [
    "**2. Data Cleaning**\n",
    "\n",
    "**Handling Missing Data**\n",
    "\n",
    "**Example 1: Dropping missing values**\n"
   ]
  },
  {
   "cell_type": "code",
   "execution_count": 66,
   "id": "4bf96aa9-2ce9-4eff-85a8-f4a76aea9aea",
   "metadata": {},
   "outputs": [
    {
     "name": "stdout",
     "output_type": "stream",
     "text": [
      "    Name  Age      City Occupation   Salary\n",
      "0   John   28  New York   Engineer  75000.0\n",
      "1   Anna   24     Paris     Doctor  68000.0\n",
      "2  Peter   35    Berlin     Artist  54000.0\n",
      "3  Linda   32    London     Lawyer  62000.0\n",
      "4  Steve   40   Chicago       Chef  80000.0\n",
      "5   John   28  New York   Engineer  75000.0\n",
      "6    NaN   30       NaN        NaN      NaN\n",
      "    Name  Age      City Occupation   Salary\n",
      "0   John   28  New York   Engineer  75000.0\n",
      "1   Anna   24     Paris     Doctor  68000.0\n",
      "2  Peter   35    Berlin     Artist  54000.0\n",
      "3  Linda   32    London     Lawyer  62000.0\n",
      "4  Steve   40   Chicago       Chef  80000.0\n",
      "5   John   28  New York   Engineer  75000.0\n"
     ]
    }
   ],
   "source": [
    "df = pd.read_csv('/Users/fnusatvik/desktop/eda_course/Pandas/sample_data_cleaning.csv')\n",
    "print(df.head(10))\n",
    "df_cleaned = df.dropna()\n",
    "print(df_cleaned)\n",
    "\n"
   ]
  },
  {
   "cell_type": "markdown",
   "id": "4052d6ac-8dcd-46cb-b15e-cc421a1d229f",
   "metadata": {},
   "source": [
    "**Explanation:**\n",
    "  \n",
    "The dropna() method removes any rows that contain missing (NaN) values. This is useful when missing data can be ignored or isn’t critical for analysis."
   ]
  },
  {
   "cell_type": "markdown",
   "id": "cf26f370-57ef-4099-9479-47447be0ef35",
   "metadata": {},
   "source": [
    "**Example 2: Filling missing value**"
   ]
  },
  {
   "cell_type": "code",
   "execution_count": 70,
   "id": "ef42ca58-00ec-402e-bdad-66c765012336",
   "metadata": {},
   "outputs": [
    {
     "name": "stdout",
     "output_type": "stream",
     "text": [
      "    Name  Age      City Occupation   Salary\n",
      "0   John   28  New York   Engineer  75000.0\n",
      "1   Anna   24     Paris     Doctor  68000.0\n",
      "2  Peter   35    Berlin     Artist  54000.0\n",
      "3  Linda   32    London     Lawyer  62000.0\n",
      "4  Steve   40   Chicago       Chef  80000.0\n",
      "5   John   28  New York   Engineer  75000.0\n",
      "6      0   30         0          0      0.0\n"
     ]
    }
   ],
   "source": [
    "df_filled = df.fillna(0)\n",
    "print(df_filled)\n"
   ]
  },
  {
   "cell_type": "markdown",
   "id": "43b2488d-05b8-412d-ac9b-46a2623e4e00",
   "metadata": {},
   "source": [
    "**Explanation:**\n",
    "  \n",
    "The fillna() method replaces missing values with a specified value (in this case, 0). This is helpful when you need to replace missing data with a default or calculated value."
   ]
  },
  {
   "cell_type": "markdown",
   "id": "46b8ce0a-e7d1-4db4-85c6-9985f5946a76",
   "metadata": {},
   "source": [
    "**Example 3: Removing Duplicates- Dropping duplicate rows**"
   ]
  },
  {
   "cell_type": "code",
   "execution_count": 74,
   "id": "078ca881-63f9-4667-a2d0-90035ddd7dd3",
   "metadata": {},
   "outputs": [
    {
     "name": "stdout",
     "output_type": "stream",
     "text": [
      "    Name  Age      City Occupation   Salary\n",
      "0   John   28  New York   Engineer  75000.0\n",
      "1   Anna   24     Paris     Doctor  68000.0\n",
      "2  Peter   35    Berlin     Artist  54000.0\n",
      "3  Linda   32    London     Lawyer  62000.0\n",
      "4  Steve   40   Chicago       Chef  80000.0\n",
      "6    NaN   30       NaN        NaN      NaN\n"
     ]
    }
   ],
   "source": [
    "df_unique = df.drop_duplicates()\n",
    "print(df_unique)\n"
   ]
  },
  {
   "cell_type": "markdown",
   "id": "6dcdbecd-8337-431c-a7da-b8e48e86e4c8",
   "metadata": {},
   "source": [
    "The drop_duplicates() method removes duplicate rows based on all columns. If there are rows with exactly the same data, only the first occurrence is kept."
   ]
  },
  {
   "cell_type": "markdown",
   "id": "9e923d6b-6930-4101-8879-e6c0d459161a",
   "metadata": {},
   "source": []
  },
  {
   "cell_type": "markdown",
   "id": "b97cd75e-6533-47a0-9351-8ed30137f987",
   "metadata": {},
   "source": [
    "**Example 4: Data Transformation: Applying functions to columns**"
   ]
  },
  {
   "cell_type": "code",
   "execution_count": 83,
   "id": "02a60858-b207-43ab-a049-5deff1b7d4ef",
   "metadata": {},
   "outputs": [
    {
     "name": "stdout",
     "output_type": "stream",
     "text": [
      "    Name  Age      City Occupation   Salary\n",
      "0   John   29  New York   Engineer  75000.0\n",
      "1   Anna   25     Paris     Doctor  68000.0\n",
      "2  Peter   36    Berlin     Artist  54000.0\n",
      "3  Linda   33    London     Lawyer  62000.0\n",
      "4  Steve   41   Chicago       Chef  80000.0\n",
      "5   John   29  New York   Engineer  75000.0\n",
      "6    NaN   31       NaN        NaN      NaN\n"
     ]
    }
   ],
   "source": [
    "df['Age'] = df['Age'].apply(lambda x: x + 1)\n",
    "print(df)\n"
   ]
  },
  {
   "cell_type": "markdown",
   "id": "018054f0-535f-49a0-a359-7e802f68f427",
   "metadata": {},
   "source": [
    "**Explanation:**\n",
    "  \n",
    "The apply() method allows you to apply a function to each element in a column. Here, we increment each person’s age by 1."
   ]
  },
  {
   "cell_type": "markdown",
   "id": "da6add5a-95ca-4757-9133-bbd484271868",
   "metadata": {},
   "source": [
    "**Example 5: Renaming columns**"
   ]
  },
  {
   "cell_type": "code",
   "execution_count": 87,
   "id": "d7d1ccb7-25b7-4ccf-a9ff-5d1e65f42f9c",
   "metadata": {},
   "outputs": [
    {
     "name": "stdout",
     "output_type": "stream",
     "text": [
      "  First Name  Age  Location Occupation   Salary\n",
      "0       John   29  New York   Engineer  75000.0\n",
      "1       Anna   25     Paris     Doctor  68000.0\n",
      "2      Peter   36    Berlin     Artist  54000.0\n",
      "3      Linda   33    London     Lawyer  62000.0\n",
      "4      Steve   41   Chicago       Chef  80000.0\n",
      "5       John   29  New York   Engineer  75000.0\n",
      "6        NaN   31       NaN        NaN      NaN\n"
     ]
    }
   ],
   "source": [
    "df = df.rename(columns={'Name': 'First Name', 'City': 'Location'})\n",
    "print(df)\n"
   ]
  },
  {
   "cell_type": "markdown",
   "id": "22674ee6-0e2e-4cf5-9077-8bebbc2eb3b1",
   "metadata": {},
   "source": [
    "**Explanation:** The rename() method changes the names of specified columns. This is useful for making column names more descriptive or consistent."
   ]
  },
  {
   "cell_type": "markdown",
   "id": "f9427833-2d09-45e0-913e-e2447ba6e973",
   "metadata": {},
   "source": [
    "# Application "
   ]
  },
  {
   "cell_type": "markdown",
   "id": "cfc2816f-80c5-471d-87ab-7c0e6ebd1cfb",
   "metadata": {},
   "source": [
    "**1. Indexing and Selecting Data**\n",
    "\n",
    "**Example 1: Selecting a single column**"
   ]
  },
  {
   "cell_type": "code",
   "execution_count": 92,
   "id": "0225b7d5-6717-4e00-8af5-98488917dd0b",
   "metadata": {},
   "outputs": [
    {
     "name": "stdout",
     "output_type": "stream",
     "text": [
      "0     John\n",
      "1     Anna\n",
      "2    Peter\n",
      "3    Linda\n",
      "4    Steve\n",
      "5     John\n",
      "6      NaN\n",
      "Name: First Name, dtype: object\n"
     ]
    }
   ],
   "source": [
    "names = df['First Name']\n",
    "print(names)\n"
   ]
  },
  {
   "cell_type": "markdown",
   "id": "f02e8e52-7e92-4fe4-a90e-9168936bfbbf",
   "metadata": {},
   "source": [
    "**Explanation:** You can select a single column by passing its name in square brackets. The result is a Series containing all the data from that column.\n"
   ]
  },
  {
   "cell_type": "markdown",
   "id": "5aa93a1f-7137-40c9-ade8-97ca45c65ac1",
   "metadata": {},
   "source": [
    "**Example 2: Selecting multiple columns**"
   ]
  },
  {
   "cell_type": "code",
   "execution_count": 96,
   "id": "2ac426f4-5b62-4e90-8ada-10e53fb3431d",
   "metadata": {},
   "outputs": [
    {
     "name": "stdout",
     "output_type": "stream",
     "text": [
      "  First Name  Location\n",
      "0       John  New York\n",
      "1       Anna     Paris\n",
      "2      Peter    Berlin\n",
      "3      Linda    London\n",
      "4      Steve   Chicago\n",
      "5       John  New York\n",
      "6        NaN       NaN\n"
     ]
    }
   ],
   "source": [
    "subset = df[['First Name', 'Location']]\n",
    "print(subset)\n"
   ]
  },
  {
   "cell_type": "markdown",
   "id": "81d97196-1a3b-4784-9b18-7fd59590a9ef",
   "metadata": {},
   "source": [
    "**Explanation:** To select multiple columns, provide a list of column names within double square brackets. The result is a DataFrame containing only the specified columns.\n"
   ]
  },
  {
   "cell_type": "markdown",
   "id": "3969a540-daeb-4f32-a30b-0783fd6a2048",
   "metadata": {},
   "source": [
    "**Example 3: Selecting rows by label with .loc[]**"
   ]
  },
  {
   "cell_type": "code",
   "execution_count": 100,
   "id": "fac5e759-e1e5-4073-a637-c891a36d88f2",
   "metadata": {},
   "outputs": [
    {
     "name": "stdout",
     "output_type": "stream",
     "text": [
      "First Name       Anna\n",
      "Age                25\n",
      "Location        Paris\n",
      "Occupation     Doctor\n",
      "Salary        68000.0\n",
      "Name: 1, dtype: object\n"
     ]
    }
   ],
   "source": [
    "row = df.loc[1]\n",
    "print(row)\n"
   ]
  },
  {
   "cell_type": "markdown",
   "id": "1aa7b8c5-be1e-45ce-bafe-6c0e5cb3b311",
   "metadata": {},
   "source": [
    "**Explanation:** The .loc[] method allows you to select rows based on their label (index). It’s especially"
   ]
  },
  {
   "cell_type": "code",
   "execution_count": null,
   "id": "ed21005b-9959-4448-986a-1675c086ee58",
   "metadata": {},
   "outputs": [],
   "source": []
  },
  {
   "cell_type": "markdown",
   "id": "a551a9c8-0eea-4024-a9ae-a71fc27e6fa2",
   "metadata": {},
   "source": [
    "**2. Filtering Data**\n",
    "\n",
    "**Example 1: Filtering rows based on a condition**"
   ]
  },
  {
   "cell_type": "code",
   "execution_count": 104,
   "id": "10db6180-c7a5-4ecb-9046-58b460143d00",
   "metadata": {},
   "outputs": [
    {
     "name": "stdout",
     "output_type": "stream",
     "text": [
      "  First Name  Age Location Occupation   Salary\n",
      "2      Peter   36   Berlin     Artist  54000.0\n",
      "3      Linda   33   London     Lawyer  62000.0\n",
      "4      Steve   41  Chicago       Chef  80000.0\n",
      "6        NaN   31      NaN        NaN      NaN\n"
     ]
    }
   ],
   "source": [
    "# Filter to show only rows where Age is greater than 30\n",
    "filtered_df = df[df['Age'] > 30]\n",
    "print(filtered_df)\n"
   ]
  },
  {
   "cell_type": "markdown",
   "id": "c75cd726-d546-4a29-9c42-f2f3a3993b6f",
   "metadata": {},
   "source": [
    "**Explanation:** This filters the DataFrame to include only rows where the Age column has values greater than 30. Filtering is essential when you need to focus on specific subsets of your data."
   ]
  },
  {
   "cell_type": "markdown",
   "id": "cbd50e0a-9ecc-4e08-a8b6-78a8c7ef9767",
   "metadata": {},
   "source": [
    "**Example 2: Filtering based on multiple conditions**"
   ]
  },
  {
   "cell_type": "code",
   "execution_count": 108,
   "id": "b3b38faf-7486-4070-8571-60b7064ac56f",
   "metadata": {},
   "outputs": [
    {
     "name": "stdout",
     "output_type": "stream",
     "text": [
      "  First Name  Age Location Occupation   Salary\n",
      "2      Peter   36   Berlin     Artist  54000.0\n",
      "3      Linda   33   London     Lawyer  62000.0\n"
     ]
    }
   ],
   "source": [
    "# Filter to show rows where Age is greater than 30 and Salary is less than 70000\n",
    "filtered_df = df[(df['Age'] > 30) & (df['Salary'] < 70000)]\n",
    "print(filtered_df)\n"
   ]
  },
  {
   "cell_type": "markdown",
   "id": "632923a7-3cf1-4e9f-abbb-dd8c8d67bc81",
   "metadata": {},
   "source": [
    "**Explanation:** You can combine multiple conditions using & (and) or | (or). Here, the filter selects rows where Age is greater than 30 and Salary is less than 70000.\n"
   ]
  },
  {
   "cell_type": "markdown",
   "id": "5ab890eb-3d81-4ae6-961f-f881da1b74f7",
   "metadata": {},
   "source": [
    "**3. Group By Operations**\n",
    "\n",
    "**Example 1: Grouping data and calculating the mean**"
   ]
  },
  {
   "cell_type": "code",
   "execution_count": 113,
   "id": "1137189b-68c8-481e-9890-27da00a3e6b8",
   "metadata": {},
   "outputs": [
    {
     "name": "stdout",
     "output_type": "stream",
     "text": [
      "             Age   Salary\n",
      "Occupation               \n",
      "Artist      36.0  54000.0\n",
      "Chef        41.0  80000.0\n",
      "Doctor      25.0  68000.0\n",
      "Engineer    29.0  75000.0\n",
      "Lawyer      33.0  62000.0\n"
     ]
    }
   ],
   "source": [
    "# Group by Occupation and calculate the mean of Age and Salary\n",
    "grouped_df = df.groupby('Occupation')[['Age', 'Salary']].mean()\n",
    "print(grouped_df)\n"
   ]
  },
  {
   "cell_type": "markdown",
   "id": "53fc82a5-acab-4665-aae4-bab52b602e26",
   "metadata": {},
   "source": [
    "**Explanation:** The groupby() method groups the data by a specific column (e.g., Occupation). After grouping, you can apply aggregation functions like mean() to calculate the average of other columns."
   ]
  },
  {
   "cell_type": "markdown",
   "id": "95c9a8bd-9b2e-4a85-ae3c-aeae4b34db44",
   "metadata": {},
   "source": [
    "**Example 2: Grouping and applying multiple aggregate functions**"
   ]
  },
  {
   "cell_type": "code",
   "execution_count": 125,
   "id": "40274623-190c-450e-b8a4-fb2e09d4a02a",
   "metadata": {},
   "outputs": [
    {
     "name": "stdout",
     "output_type": "stream",
     "text": [
      "             mean    max\n",
      "City                    \n",
      "Berlin    54000.0  54000\n",
      "Chicago   80000.0  80000\n",
      "London    62000.0  62000\n",
      "New York  75000.0  75000\n",
      "Paris     68000.0  68000\n"
     ]
    }
   ],
   "source": [
    "# Group by City and calculate both the mean and max of Salary\n",
    "grouped_df = df.groupby('City')['Salary'].agg(['mean', 'max'])\n",
    "print(grouped_df)\n"
   ]
  },
  {
   "cell_type": "markdown",
   "id": "b364e86f-2241-4f9f-bf68-1945385af417",
   "metadata": {},
   "source": [
    "**Explanation:** The agg() method allows you to apply multiple aggregation functions at once. Here, it calculates both the average (mean) and maximum (max) Salary for each City."
   ]
  },
  {
   "cell_type": "markdown",
   "id": "f7e55af1-56aa-41fc-af43-e0361cf9ece7",
   "metadata": {},
   "source": [
    "**4. Merging and Joining DataFrames**\n",
    "\n",
    "**Example 1: Merging two DataFrames**\n",
    "\n"
   ]
  },
  {
   "cell_type": "code",
   "execution_count": 4,
   "id": "4f06ab5b-e7ac-43d6-8338-408bc73e49bb",
   "metadata": {},
   "outputs": [],
   "source": [
    "df1 = pd.DataFrame({\n",
    "    'key': ['A', 'B', 'C'],\n",
    "    'value1': [1, 2, 3]\n",
    "})\n",
    "df2 = pd.DataFrame({\n",
    "    'key': ['B', 'C', 'D'],\n",
    "    'value2': [4, 5, 6]\n",
    "})"
   ]
  },
  {
   "cell_type": "code",
   "execution_count": 135,
   "id": "02412ef4-8129-476b-8c0d-9b65e5e2731b",
   "metadata": {},
   "outputs": [
    {
     "name": "stdout",
     "output_type": "stream",
     "text": [
      "  key  value1\n",
      "0   A       1\n",
      "1   B       2\n",
      "2   C       3\n"
     ]
    }
   ],
   "source": [
    "print(df1)"
   ]
  },
  {
   "cell_type": "code",
   "execution_count": 6,
   "id": "b48b54d8-176d-4e25-b43d-23786583c343",
   "metadata": {},
   "outputs": [
    {
     "name": "stdout",
     "output_type": "stream",
     "text": [
      "  key  value2\n",
      "0   B       4\n",
      "1   C       5\n",
      "2   D       6\n"
     ]
    }
   ],
   "source": [
    "print(df2)"
   ]
  },
  {
   "cell_type": "code",
   "execution_count": 139,
   "id": "4f9c9206-f3ef-4362-999c-54a8de8719af",
   "metadata": {},
   "outputs": [
    {
     "name": "stdout",
     "output_type": "stream",
     "text": [
      "  key  value1  value2\n",
      "0   B       2       4\n",
      "1   C       3       5\n"
     ]
    }
   ],
   "source": [
    "merged_df = pd.merge(df1, df2, on='key', how='inner')\n",
    "print(merged_df)\n",
    "\n"
   ]
  },
  {
   "cell_type": "markdown",
   "id": "438c33e7-dead-434b-bab6-9153c98c2a47",
   "metadata": {},
   "source": [
    "**Explanation:** Merging combines two DataFrames based on a common key. The how='inner' parameter specifies an inner join, which keeps only the rows with matching keys in both DataFrames.\n"
   ]
  },
  {
   "cell_type": "markdown",
   "id": "2aecd638-c119-464b-8d44-f43646a701c0",
   "metadata": {},
   "source": [
    "**Example 2: Outer join with merging**"
   ]
  },
  {
   "cell_type": "code",
   "execution_count": 143,
   "id": "21ccac99-3129-4cc9-a4f2-8fad4452eb73",
   "metadata": {},
   "outputs": [
    {
     "name": "stdout",
     "output_type": "stream",
     "text": [
      "  key  value1  value2\n",
      "0   A     1.0     NaN\n",
      "1   B     2.0     4.0\n",
      "2   C     3.0     5.0\n",
      "3   D     NaN     6.0\n"
     ]
    }
   ],
   "source": [
    "merged_df = pd.merge(df1, df2, on='key', how='outer')\n",
    "print(merged_df)\n"
   ]
  },
  {
   "cell_type": "markdown",
   "id": "fdde901a-05c9-49bf-8227-f44f8645289c",
   "metadata": {},
   "source": [
    "**Explanation:** An outer join (how='outer') keeps all rows from both DataFrames, filling in missing values (NaN) where keys don’t match.\n"
   ]
  },
  {
   "cell_type": "markdown",
   "id": "c6ef611a-8825-4b93-942b-10801a37a11a",
   "metadata": {},
   "source": [
    "# 5. Bigger Example\n",
    "\n",
    "**Case Study:** Analyzing Sales Data\n",
    "\n",
    "**Scenario:** Imagine you are given a dataset containing sales information from different stores in various cities. Your task is to clean the data, analyze sales performance by city, and generate a summary report.\n",
    "\n",
    "**Steps:**\n",
    "1. Import the data from a CSV file.\n",
    "2. Clean the data by handling missing values and removing duplicates.\n",
    "3. Group the data by City and calculate total sales.\n",
    "4. Identify the City with the highest sales.\n",
    "4. Export the summary report to an Excel file"
   ]
  },
  {
   "cell_type": "code",
   "execution_count": 10,
   "id": "9c7301bb-bd24-4c3c-a773-8cee01c9c3ce",
   "metadata": {},
   "outputs": [
    {
     "name": "stdout",
     "output_type": "stream",
     "text": [
      "       City    Store   Sales  Employees\n",
      "0  New York  Store A  150000         25\n",
      "1     Paris  Store B  120000         18\n",
      "2    Berlin  Store C   90000         12\n",
      "3    London  Store D  110000         15\n",
      "4   Chicago  Store E  130000         20\n",
      "5  New York  Store F  170000         30\n",
      "6    Berlin  Store G   95000         10\n",
      "7   Chicago  Store H  160000         22\n"
     ]
    }
   ],
   "source": [
    "import pandas as pd\n",
    "\n",
    "# Step 1: Import data\n",
    "df = pd.read_csv('/Users/fnusatvik/desktop/eda_course/Pandas/sales_data_example.csv')\n",
    "print(df.head(20))\n"
   ]
  },
  {
   "cell_type": "code",
   "execution_count": 14,
   "id": "5089596d-e0cb-4b5a-8637-c41f0f447017",
   "metadata": {},
   "outputs": [
    {
     "name": "stdout",
     "output_type": "stream",
     "text": [
      "       City    Store   Sales  Employees\n",
      "0  New York  Store A  150000         25\n",
      "1     Paris  Store B  120000         18\n",
      "2    Berlin  Store C   90000         12\n",
      "3    London  Store D  110000         15\n",
      "4   Chicago  Store E  130000         20\n",
      "5  New York  Store F  170000         30\n",
      "6    Berlin  Store G   95000         10\n",
      "7   Chicago  Store H  160000         22\n"
     ]
    }
   ],
   "source": [
    "# Step 2: Clean data\n",
    "df = df.dropna()\n",
    "df = df.drop_duplicates()\n",
    "\n",
    "print(df)\n",
    "\n"
   ]
  },
  {
   "cell_type": "code",
   "execution_count": 18,
   "id": "f3e1a658-6b7b-4aed-99db-d54818af8377",
   "metadata": {},
   "outputs": [
    {
     "name": "stdout",
     "output_type": "stream",
     "text": [
      "City\n",
      "Berlin      185000\n",
      "Chicago     290000\n",
      "London      110000\n",
      "New York    320000\n",
      "Paris       120000\n",
      "Name: Sales, dtype: int64\n"
     ]
    }
   ],
   "source": [
    "# Step 3: Group by city and calculate total sales\n",
    "city_sales = df.groupby('City')['Sales'].sum()\n",
    "print(city_sales)\n",
    "\n"
   ]
  },
  {
   "cell_type": "code",
   "execution_count": 163,
   "id": "52b047db-d30b-405c-9e96-b2b414cf80e2",
   "metadata": {},
   "outputs": [
    {
     "name": "stdout",
     "output_type": "stream",
     "text": [
      "Top city: New York, Total Sales: 320000\n"
     ]
    }
   ],
   "source": [
    "# Step 4: Identify the city with the highest sales\n",
    "top_city = city_sales.idxmax()\n",
    "top_sales = city_sales.max()\n",
    "\n",
    "print(f'Top city: {top_city}, Total Sales: {top_sales}')\n",
    "\n"
   ]
  },
  {
   "cell_type": "code",
   "execution_count": 165,
   "id": "c5f9fc88-c3de-4337-8890-da94a2bac84e",
   "metadata": {},
   "outputs": [],
   "source": [
    "# Step 5: Export the summary report\n",
    "city_sales.to_excel('/Users/fnusatvik/desktop/eda_course/Pandas/sales_summary.xlsx')"
   ]
  },
  {
   "cell_type": "markdown",
   "id": "bd99a91b-74fc-4c59-a6b6-f27938878da4",
   "metadata": {},
   "source": [
    "**Explanation:** This example walks through a typical data analysis process. It starts by loading the data, cleaning it, grouping and analyzing it, and then exporting the results. Each step shows how Pandas can be used to transform and gain insights from data efficiently.\n"
   ]
  },
  {
   "cell_type": "markdown",
   "id": "404be9dc-6346-4458-973e-65edaa23e411",
   "metadata": {},
   "source": [
    "# 6. Practice Questions\n",
    "\n",
    "**A. Basic Questions**\n",
    "\n",
    "1. Create a Pandas Series with 5 elements of your choice. Access the third element.\n",
    "2. Create a DataFrame from a dictionary with at least 3 columns and 5 rows. Select the first two rows and two columns.\n",
    "   \n",
    "**B. Intermediate Questions**\n",
    "\n",
    "1. Import a CSV file into a DataFrame. Drop any rows with missing values and then sort the DataFrame by one of its columns.\n",
    "2. Group the data by a specific column and calculate the mean of another column. Plot the results using Matplotlib.\n",
    "   \n",
    "**C. Advanced Questions**\n",
    "\n",
    "1. Merge two DataFrames on a common column. Perform an inner join and an outer join. Explain the differences in the results.\n",
    "2. Given a dataset of customer orders, identify the top 3 customers with the highest total purchase amounts and export this data to a CSV file.\n"
   ]
  },
  {
   "cell_type": "code",
   "execution_count": 17,
   "id": "15c32b17-f7e1-4692-860b-5c2f3432e8a0",
   "metadata": {},
   "outputs": [],
   "source": [
    "import pandas as pd"
   ]
  },
  {
   "cell_type": "code",
   "execution_count": 19,
   "id": "61db82ce-1fca-40a8-8e91-2b6b3fee6581",
   "metadata": {},
   "outputs": [
    {
     "data": {
      "text/plain": [
       "24"
      ]
     },
     "execution_count": 19,
     "metadata": {},
     "output_type": "execute_result"
    }
   ],
   "source": [
    "#A\n",
    "#1\n",
    "\n",
    "s1=pd.Series([27,15,24,23],index=['a','b','c','d'])\n",
    "s1['c']\n",
    "s1.iloc[2]"
   ]
  },
  {
   "cell_type": "code",
   "execution_count": 35,
   "id": "920c82f5-cfc1-4b54-9af7-09036b18b443",
   "metadata": {},
   "outputs": [
    {
     "name": "stdout",
     "output_type": "stream",
     "text": [
      "   A   B   C\n",
      "0  1  10  20\n",
      "1  2  20  30\n",
      "2  3  30  40\n",
      "3  4  40  50\n",
      "4  5  50  60\n"
     ]
    },
    {
     "data": {
      "text/html": [
       "<div>\n",
       "<style scoped>\n",
       "    .dataframe tbody tr th:only-of-type {\n",
       "        vertical-align: middle;\n",
       "    }\n",
       "\n",
       "    .dataframe tbody tr th {\n",
       "        vertical-align: top;\n",
       "    }\n",
       "\n",
       "    .dataframe thead th {\n",
       "        text-align: right;\n",
       "    }\n",
       "</style>\n",
       "<table border=\"1\" class=\"dataframe\">\n",
       "  <thead>\n",
       "    <tr style=\"text-align: right;\">\n",
       "      <th></th>\n",
       "      <th>A</th>\n",
       "      <th>B</th>\n",
       "    </tr>\n",
       "  </thead>\n",
       "  <tbody>\n",
       "    <tr>\n",
       "      <th>0</th>\n",
       "      <td>1</td>\n",
       "      <td>10</td>\n",
       "    </tr>\n",
       "    <tr>\n",
       "      <th>1</th>\n",
       "      <td>2</td>\n",
       "      <td>20</td>\n",
       "    </tr>\n",
       "  </tbody>\n",
       "</table>\n",
       "</div>"
      ],
      "text/plain": [
       "   A   B\n",
       "0  1  10\n",
       "1  2  20"
      ]
     },
     "execution_count": 35,
     "metadata": {},
     "output_type": "execute_result"
    }
   ],
   "source": [
    "#A\n",
    "#2\n",
    "\n",
    "df1=pd.DataFrame(\n",
    "    {'A':[1,2,3,4,5],\n",
    "    'B':[10,20,30,40,50],\n",
    "    'C':[20,30,40,50,60]\n",
    "    }\n",
    ")\n",
    "print(df1)\n",
    "df1.iloc[[0,1],[0,1]]"
   ]
  },
  {
   "cell_type": "code",
   "execution_count": 69,
   "id": "65ea0895-e248-427c-b03f-90ecdfd5b848",
   "metadata": {},
   "outputs": [
    {
     "name": "stdout",
     "output_type": "stream",
     "text": [
      "      obs  survived pclass     sex        age  sibsp  parch        fare  \\\n",
      "0      R1         0    1st    male  24.000000      0      0   79.199997   \n",
      "1      R2         1    2nd  female  24.000000      0      0   13.000000   \n",
      "2      R3         0    3rd    male  18.000000      1      1   20.212500   \n",
      "3      R4         0    1st    male  24.000000      1      0   60.000000   \n",
      "4      R5         0    3rd  female   9.000000      4      2   31.275000   \n",
      "..    ...       ...    ...     ...        ...    ...    ...         ...   \n",
      "990  R991         0    3rd  female  37.028164      0      4   25.466700   \n",
      "991  R992         0    3rd  female  10.000000      5      2   46.900002   \n",
      "992  R993         1    3rd    male  25.000000      0      0    0.000000   \n",
      "993  R994         1    1st  female  24.000000      0      0   69.300003   \n",
      "994  R995         1    1st  female  40.000000      1      1  134.500000   \n",
      "\n",
      "        embarked  solo  \n",
      "0      Cherbourg     1  \n",
      "1    Southampton     1  \n",
      "2    Southampton     0  \n",
      "3    Southampton     0  \n",
      "4    Southampton     0  \n",
      "..           ...   ...  \n",
      "990  Southampton     0  \n",
      "991  Southampton     0  \n",
      "992  Southampton     1  \n",
      "993    Cherbourg     1  \n",
      "994    Cherbourg     0  \n",
      "\n",
      "[995 rows x 10 columns]\n"
     ]
    },
    {
     "data": {
      "text/html": [
       "<div>\n",
       "<style scoped>\n",
       "    .dataframe tbody tr th:only-of-type {\n",
       "        vertical-align: middle;\n",
       "    }\n",
       "\n",
       "    .dataframe tbody tr th {\n",
       "        vertical-align: top;\n",
       "    }\n",
       "\n",
       "    .dataframe thead th {\n",
       "        text-align: right;\n",
       "    }\n",
       "</style>\n",
       "<table border=\"1\" class=\"dataframe\">\n",
       "  <thead>\n",
       "    <tr style=\"text-align: right;\">\n",
       "      <th></th>\n",
       "      <th>obs</th>\n",
       "      <th>survived</th>\n",
       "      <th>pclass</th>\n",
       "      <th>sex</th>\n",
       "      <th>age</th>\n",
       "      <th>sibsp</th>\n",
       "      <th>parch</th>\n",
       "      <th>fare</th>\n",
       "      <th>embarked</th>\n",
       "      <th>solo</th>\n",
       "    </tr>\n",
       "  </thead>\n",
       "  <tbody>\n",
       "    <tr>\n",
       "      <th>389</th>\n",
       "      <td>R390</td>\n",
       "      <td>1</td>\n",
       "      <td>3rd</td>\n",
       "      <td>female</td>\n",
       "      <td>0.1667</td>\n",
       "      <td>1</td>\n",
       "      <td>2</td>\n",
       "      <td>20.575001</td>\n",
       "      <td>Southampton</td>\n",
       "      <td>0</td>\n",
       "    </tr>\n",
       "    <tr>\n",
       "      <th>434</th>\n",
       "      <td>R435</td>\n",
       "      <td>0</td>\n",
       "      <td>3rd</td>\n",
       "      <td>male</td>\n",
       "      <td>0.3333</td>\n",
       "      <td>0</td>\n",
       "      <td>2</td>\n",
       "      <td>14.400000</td>\n",
       "      <td>Southampton</td>\n",
       "      <td>0</td>\n",
       "    </tr>\n",
       "    <tr>\n",
       "      <th>454</th>\n",
       "      <td>R455</td>\n",
       "      <td>1</td>\n",
       "      <td>3rd</td>\n",
       "      <td>male</td>\n",
       "      <td>0.4167</td>\n",
       "      <td>0</td>\n",
       "      <td>1</td>\n",
       "      <td>8.516700</td>\n",
       "      <td>Cherbourg</td>\n",
       "      <td>0</td>\n",
       "    </tr>\n",
       "    <tr>\n",
       "      <th>274</th>\n",
       "      <td>R275</td>\n",
       "      <td>0</td>\n",
       "      <td>3rd</td>\n",
       "      <td>male</td>\n",
       "      <td>0.7500</td>\n",
       "      <td>1</td>\n",
       "      <td>1</td>\n",
       "      <td>13.775000</td>\n",
       "      <td>Southampton</td>\n",
       "      <td>0</td>\n",
       "    </tr>\n",
       "    <tr>\n",
       "      <th>309</th>\n",
       "      <td>R310</td>\n",
       "      <td>1</td>\n",
       "      <td>3rd</td>\n",
       "      <td>female</td>\n",
       "      <td>0.7500</td>\n",
       "      <td>2</td>\n",
       "      <td>1</td>\n",
       "      <td>19.258301</td>\n",
       "      <td>Cherbourg</td>\n",
       "      <td>0</td>\n",
       "    </tr>\n",
       "  </tbody>\n",
       "</table>\n",
       "</div>"
      ],
      "text/plain": [
       "      obs  survived pclass     sex     age  sibsp  parch       fare  \\\n",
       "389  R390         1    3rd  female  0.1667      1      2  20.575001   \n",
       "434  R435         0    3rd    male  0.3333      0      2  14.400000   \n",
       "454  R455         1    3rd    male  0.4167      0      1   8.516700   \n",
       "274  R275         0    3rd    male  0.7500      1      1  13.775000   \n",
       "309  R310         1    3rd  female  0.7500      2      1  19.258301   \n",
       "\n",
       "        embarked  solo  \n",
       "389  Southampton     0  \n",
       "434  Southampton     0  \n",
       "454    Cherbourg     0  \n",
       "274  Southampton     0  \n",
       "309    Cherbourg     0  "
      ]
     },
     "execution_count": 69,
     "metadata": {},
     "output_type": "execute_result"
    }
   ],
   "source": [
    "#B\n",
    "#1\n",
    "\n",
    "data=pd.read_csv('titanic_dataset.csv')\n",
    "data.dropna()\n",
    "print(data)\n",
    "df=data.sort_values('age')\n",
    "df.head()"
   ]
  },
  {
   "cell_type": "code",
   "execution_count": 91,
   "id": "8a826b9a-0627-45fc-9d32-e5302fd647e8",
   "metadata": {},
   "outputs": [
    {
     "data": {
      "text/plain": [
       "survived\n",
       "0    23.673838\n",
       "1    48.913358\n",
       "Name: fare, dtype: float64"
      ]
     },
     "execution_count": 91,
     "metadata": {},
     "output_type": "execute_result"
    }
   ],
   "source": [
    "#B\n",
    "#2 Group the data by a specific column and calculate the mean of another column. Plot the results using Matplotlib.\n",
    "data.groupby('survived')['fare'].mean ()\n",
    "# x,y=data.groupby('survived')['fare'].mean ()\n",
    "# print (f'x is {x}, y is {y}')"
   ]
  },
  {
   "cell_type": "code",
   "execution_count": 99,
   "id": "f307c2ab-8486-4398-8278-24f06855407d",
   "metadata": {},
   "outputs": [
    {
     "data": {
      "image/png": "[encoded data removed]",
      "text/plain": [
       "<Figure size 640x480 with 1 Axes>"
      ]
     },
     "metadata": {},
     "output_type": "display_data"
    }
   ],
   "source": [
    "from matplotlib import pyplot as plt\n",
    "plt.xlabel(\" survived \")\n",
    "plt.ylabel(\" did not survived \")\n",
    "plt.scatter(x,y)\n",
    "plt.show()"
   ]
  },
  {
   "cell_type": "code",
   "execution_count": 134,
   "id": "23ffc3a2-3f6b-48f8-b1cf-e7f4fa34378c",
   "metadata": {},
   "outputs": [
    {
     "name": "stdout",
     "output_type": "stream",
     "text": [
      "   a  b\n",
      "0  1  3\n",
      "1  5  2\n",
      "   b  c\n",
      "0  5  4\n",
      "1  2  8\n",
      "   a  b  c\n",
      "0  5  2  8\n",
      "     a  b    c\n",
      "0  1.0  3  NaN\n",
      "1  5.0  2  8.0\n",
      "2  NaN  5  4.0\n"
     ]
    }
   ],
   "source": [
    "#C. Advanced Questions\n",
    "\n",
    "#1. Merge two DataFrames on a common column. Perform an inner join and an outer join. Explain the differences in the results.\n",
    "df1 = pd.DataFrame({ 'a':[1,5],'b':[3,2]})\n",
    "df2 = pd.DataFrame({ 'b':[5,2],'c':[4,8]})\n",
    "df = df1.merge( df2, on='b', how ='inner')\n",
    "print(df1)\n",
    "print(df2)\n",
    "print(df)\n",
    "dfnew = df1.merge( df2, how ='outer')\n",
    "print(dfnew)"
   ]
  },
  {
   "cell_type": "code",
   "execution_count": 124,
   "id": "a1ec3076-4f8e-41d8-ae5e-5a3796ca3773",
   "metadata": {},
   "outputs": [],
   "source": [
    "#2. Given a dataset of customer orders, identify the top 3 customers with the highest total purchase amounts and export this data to \n",
    "#a CSV file."
   ]
  },
  {
   "cell_type": "code",
   "execution_count": 148,
   "id": "c67816bc-9989-49ef-b3a0-bcdd318e3d18",
   "metadata": {},
   "outputs": [
    {
     "name": "stdout",
     "output_type": "stream",
     "text": [
      "   CustomerID  Location  LastPurchase\n",
      "0         103  New York           150\n",
      "1         104     Paris           100\n",
      "2         105    Berlin           200\n",
      "3         106    London           300\n",
      "4         107   Chicago           250\n",
      "   CustomerID  Location  LastPurchase\n",
      "3         106    London           300\n",
      "4         107   Chicago           250\n",
      "2         105    Berlin           200\n",
      "0         103  New York           150\n",
      "1         104     Paris           100\n"
     ]
    }
   ],
   "source": [
    "df_co= pd.read_csv(\"advanced_practice2.csv\")\n",
    "print(df_co)\n",
    "htp=df_co.sort_values('LastPurchase', ascending=False)\n",
    "print(htp)"
   ]
  },
  {
   "cell_type": "code",
   "execution_count": 150,
   "id": "93e6cbcb-5abb-48e6-845b-4c382326aec6",
   "metadata": {},
   "outputs": [
    {
     "name": "stdout",
     "output_type": "stream",
     "text": [
      "   CustomerID Location  LastPurchase\n",
      "3         106   London           300\n",
      "4         107  Chicago           250\n",
      "2         105   Berlin           200\n"
     ]
    }
   ],
   "source": [
    "final_d = htp.head(3)\n",
    "print(final_d)"
   ]
  },
  {
   "cell_type": "code",
   "execution_count": 152,
   "id": "e92c4161-bbf2-4ea1-a841-af131e23012f",
   "metadata": {},
   "outputs": [],
   "source": [
    "final_d.to_csv(\"htp.csv\")"
   ]
  },
  {
   "cell_type": "code",
   "execution_count": null,
   "id": "f45ad0b4-4d0a-4a18-9841-4c5d07047999",
   "metadata": {},
   "outputs": [],
   "source": []
  }
 ],
 "metadata": {
  "kernelspec": {
   "display_name": "Python 3 (ipykernel)",
   "language": "python",
   "name": "python3"
  },
  "language_info": {
   "codemirror_mode": {
    "name": "ipython",
    "version": 3
   },
   "file_extension": ".py",
   "mimetype": "text/x-python",
   "name": "python",
   "nbconvert_exporter": "python",
   "pygments_lexer": "ipython3",
   "version": "3.11.7"
  }
 },
 "nbformat": 4,
 "nbformat_minor": 5
}
