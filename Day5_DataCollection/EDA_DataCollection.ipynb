{
 "cells": [
  {
   "cell_type": "markdown",
   "id": "12edfab5-3533-4e80-b1c4-6867deb12cb6",
   "metadata": {},
   "source": [
    "# Python EDA Course: Loading Data From Various Sources"
   ]
  },
  {
   "cell_type": "markdown",
   "id": "14b15674-7e6d-48ce-b68d-0c92f36a4eb5",
   "metadata": {},
   "source": [
    "# 1. Introduction to Importing Data\n",
    "\n",
    "Importing data into Python is the foundational step in any data analysis or machine learning project. Whether the data resides in **CSV files, Excel sheets, SQL databases, or web APIs**, the ability to import and manipulate this data is critical for any data scientist or analyst. This section covers various methods for importing data into Python, complete with practical examples and detailed explanations."
   ]
  },
  {
   "cell_type": "markdown",
   "id": "8d398671-26e4-4c8e-b097-4c9db63ed0db",
   "metadata": {},
   "source": [
    "# 2 Importing Data from CSV Files\n",
    "\n",
    "**CSV (Comma-Separated Values)** files are one of the most common data formats used in data analysis. Python’s pandas library provides a robust method to import and manipulate CSV data.\n",
    "\n",
    "**Example 1: Basic CSV Import**\n",
    "\n",
    "**Data: sales_data.csv**\n",
    "\n",
    "Let's start with a basic CSV file that contains sales data. The file has columns such as Date, Product, Sales, and Quantity.\n"
   ]
  },
  {
   "cell_type": "code",
   "execution_count": 27,
   "id": "2d163760-6f39-432b-b2a1-d74df5f206bf",
   "metadata": {},
   "outputs": [
    {
     "name": "stdout",
     "output_type": "stream",
     "text": [
      "         Date   Product  Sales  Quantity\n",
      "0  2023-08-01  Widget A    100         4\n",
      "1  2023-08-01  Widget B    150         6\n",
      "2  2023-08-02  Widget A    120         5\n",
      "3  2023-08-02  Widget C    200         7\n"
     ]
    }
   ],
   "source": [
    "import pandas as pd\n",
    "\n",
    "# Importing data from a CSV file\n",
    "data = pd.read_csv('/Users/fnusatvik/desktop/eda_course/data_collection/sales_data.csv')\n",
    "\n",
    "# Displaying the first few rows of the dataset\n",
    "print(data.head(10))\n"
   ]
  },
  {
   "cell_type": "markdown",
   "id": "d3b27345-3c16-4ed8-be05-a1fff4257553",
   "metadata": {},
   "source": [
    "**Explanation:**\n",
    "\n",
    "pd.read_csv('sales_data.csv'): This line imports the CSV file into a Pandas DataFrame. The read_csv function is highly flexible, allowing you to specify delimiters, handle missing data, and more.\n",
    "data.head(): This function displays the first five rows of the DataFrame, providing a quick look at the data."
   ]
  },
  {
   "cell_type": "markdown",
   "id": "0e621673-6ff6-43ba-9d7a-a745c71272d4",
   "metadata": {},
   "source": [
    "**Example 2: CSV with Custom Delimiters**\n",
    "    \n",
    "Sometimes, CSV files use delimiters other than commas, such as pipes (|) or semicolons (;). Let's import a CSV file with a custom delimiter.\n",
    "\n",
    "**Data: custom_delimiter_data.csv**"
   ]
  },
  {
   "cell_type": "code",
   "execution_count": 35,
   "id": "db249743-fb7c-451e-848b-9f9540ffb124",
   "metadata": {},
   "outputs": [
    {
     "name": "stdout",
     "output_type": "stream",
     "text": [
      "         Date   Product  Sales  Quantity\n",
      "0  2023-08-01  Widget A    100         4\n",
      "1  2023-08-01  Widget B    150         6\n",
      "2  2023-08-02  Widget A    120         5\n",
      "3  2023-08-02  Widget C    200         7\n"
     ]
    }
   ],
   "source": [
    "# Importing data with a custom delimiter\n",
    "data = pd.read_csv('/Users/fnusatvik/desktop/eda_course/data_collection/custom_delimiter_data.csv', sep='|')\n",
    "\n",
    "# Displaying the first few rows of the dataset\n",
    "print(data.head())\n"
   ]
  },
  {
   "cell_type": "markdown",
   "id": "568bbaea-be1d-43ea-9bd3-a97b03e05347",
   "metadata": {},
   "source": [
    "**Just like read_csv, python also has read_excel function to read data from any excel file**"
   ]
  },
  {
   "cell_type": "code",
   "execution_count": 40,
   "id": "1d7d47e4-9221-4f14-81b4-5d193a702501",
   "metadata": {},
   "outputs": [
    {
     "name": "stdout",
     "output_type": "stream",
     "text": [
      "         Date   Product  Sales  Quantity\n",
      "0  2023-08-01  Widget A    100         4\n",
      "1  2023-08-01  Widget B    150         6\n",
      "2  2023-08-02  Widget A    120         5\n",
      "3  2023-08-02  Widget C    200         7\n",
      "   Product_ID  Stock\n",
      "0           1     50\n",
      "1           2     60\n",
      "2           3     70\n"
     ]
    }
   ],
   "source": [
    "# Importing data from multiple sheets\n",
    "sales_data = pd.read_excel('/Users/fnusatvik/desktop/eda_course/data_collection/multi_sheet_data.xlsx', sheet_name='Sales')\n",
    "inventory_data = pd.read_excel('/Users/fnusatvik/desktop/eda_course/data_collection/multi_sheet_data.xlsx', sheet_name='Inventory')\n",
    "\n",
    "# Displaying the first few rows of each sheet\n",
    "print(sales_data.head())\n",
    "print(inventory_data.head())\n"
   ]
  },
  {
   "cell_type": "markdown",
   "id": "6e062a62-1147-427e-8e2d-6a59e8dc4329",
   "metadata": {},
   "source": [
    "# 3. Importing Data from SQL Databases\n",
    "\n",
    "SQL databases are widely used for storing large datasets, and Python can directly interact with these databases using libraries like sqlalchemy and pandas. This is particularly useful when dealing with structured data stored in relational databases.\n",
    "\n"
   ]
  },
  {
   "cell_type": "markdown",
   "id": "cbcf6865-9f3c-4e67-ada0-df2ee57c952f",
   "metadata": {},
   "source": [
    "**1. Create a Sqlite database and a table**"
   ]
  },
  {
   "cell_type": "code",
   "execution_count": 44,
   "id": "c31f3d59-a93b-4e9a-ab30-231eb2d51c64",
   "metadata": {},
   "outputs": [],
   "source": [
    "import sqlite3\n",
    "\n",
    "# Connect to SQLite database (or create it if it doesn't exist)\n",
    "conn = sqlite3.connect('sales_database.db')\n",
    "\n",
    "# Create a cursor object to execute SQL commands\n",
    "cursor = conn.cursor()\n",
    "\n",
    "# Create a table named 'sales_data'\n",
    "cursor.execute('''\n",
    "CREATE TABLE IF NOT EXISTS sales_data (\n",
    "    id INTEGER PRIMARY KEY,\n",
    "    Date TEXT,\n",
    "    Product TEXT,\n",
    "    Sales INTEGER,\n",
    "    Quantity INTEGER\n",
    ")\n",
    "''')\n",
    "\n",
    "# Insert some sample data into the table\n",
    "sales_data = [\n",
    "    ('2023-08-01', 'Widget A', 100, 4),\n",
    "    ('2023-08-01', 'Widget B', 150, 6),\n",
    "    ('2023-08-02', 'Widget A', 120, 5),\n",
    "    ('2023-08-02', 'Widget C', 200, 7)\n",
    "]\n",
    "\n",
    "cursor.executemany('''\n",
    "INSERT INTO sales_data (Date, Product, Sales, Quantity)\n",
    "VALUES (?, ?, ?, ?)\n",
    "''', sales_data)\n",
    "\n",
    "# Commit the changes and close the connection\n",
    "conn.commit()\n",
    "conn.close()\n"
   ]
  },
  {
   "cell_type": "markdown",
   "id": "47e1d795-01ca-47b0-ad2d-a021dc2d4c34",
   "metadata": {},
   "source": [
    "**2. Connect with this Sqlite database and fetch data**"
   ]
  },
  {
   "cell_type": "code",
   "execution_count": 46,
   "id": "bc6ab265-4099-47b5-83bf-d5ede0e16320",
   "metadata": {},
   "outputs": [
    {
     "name": "stdout",
     "output_type": "stream",
     "text": [
      "   id        Date   Product  Sales  Quantity\n",
      "0   1  2023-08-01  Widget A    100         4\n",
      "1   2  2023-08-01  Widget B    150         6\n",
      "2   3  2023-08-02  Widget A    120         5\n",
      "3   4  2023-08-02  Widget C    200         7\n"
     ]
    }
   ],
   "source": [
    "import pandas as pd\n",
    "from sqlalchemy import create_engine\n",
    "\n",
    "# Connect to the SQLite database\n",
    "engine = create_engine('sqlite:///sales_database.db')\n",
    "\n",
    "# Query the database\n",
    "query = 'SELECT * FROM sales_data'\n",
    "data = pd.read_sql_query(query, engine)\n",
    "\n",
    "# Display the data\n",
    "print(data)\n"
   ]
  },
  {
   "cell_type": "markdown",
   "id": "5f0c6025-8da8-4be0-b111-e41f7f5328f3",
   "metadata": {},
   "source": [
    "# 3. Importing Data from Web APIs\n",
    "\n",
    "Web APIs are a powerful way to retrieve real-time data directly from the web. Python’s requests library allows you to send HTTP requests to web APIs and import the data into your environment.\n",
    "\n",
    "**The URL https://jsonplaceholder.typicode.com/posts** is an example of a public API provided by JSONPlaceholder, which is a free online REST API that you can use to test and prototype with fake data. This API provides various endpoints that return different types of data, such as posts, comments, albums, photos, and more, in JSON format"
   ]
  },
  {
   "cell_type": "markdown",
   "id": "0b735d39-7422-40a3-ab27-024fef2f9dc7",
   "metadata": {},
   "source": [
    "**Step-by-Step Explanation of API Connection**\n",
    "\n",
    "**1. Understanding the API Endpoint**\n",
    "\n",
    "**URL:** https://jsonplaceholder.typicode.com/posts\n",
    "\n",
    "**https://:** The protocol used to communicate securely with the server.\n",
    "\n",
    "**jsonplaceholder.typicode.com:** The domain name of the server hosting the API.\n",
    "\n",
    "**/posts:** The specific endpoint that returns a list of \"posts\" in JSON format.\n",
    "\n",
    "When you make a request to this URL, the server responds with a JSON object containing a list of posts, where each post is an object with fields like userId, id, title, and body."
   ]
  },
  {
   "cell_type": "markdown",
   "id": "44222be2-11ef-4e38-9818-481ab45a4c80",
   "metadata": {},
   "source": [
    "**2. Fetching Data from the API Using Python**\n",
    "\n",
    "To fetch data from this API in Python, we use the requests library, which is a simple and elegant HTTP library for making requests to web services."
   ]
  },
  {
   "cell_type": "code",
   "execution_count": 57,
   "id": "eb1d5b91-245a-4d79-ad82-24aa51a5881f",
   "metadata": {},
   "outputs": [
    {
     "name": "stdout",
     "output_type": "stream",
     "text": [
      "Request successful!\n",
      "   userId  id                                              title  \\\n",
      "0       1   1  sunt aut facere repellat provident occaecati e...   \n",
      "1       1   2                                       qui est esse   \n",
      "2       1   3  ea molestias quasi exercitationem repellat qui...   \n",
      "3       1   4                               eum et est occaecati   \n",
      "4       1   5                                 nesciunt quas odio   \n",
      "\n",
      "                                                body  \n",
      "0  quia et suscipit\\nsuscipit recusandae consequu...  \n",
      "1  est rerum tempore vitae\\nsequi sint nihil repr...  \n",
      "2  et iusto sed quo iure\\nvoluptatem occaecati om...  \n",
      "3  ullam et saepe reiciendis voluptatem adipisci\\...  \n",
      "4  repudiandae veniam quaerat sunt sed\\nalias aut...  \n"
     ]
    }
   ],
   "source": [
    "import requests\n",
    "import pandas as pd\n",
    "\n",
    "# Fetching data from a web API\n",
    "response = requests.get('https://jsonplaceholder.typicode.com/posts')\n",
    "\n",
    "# Check if the request was successful\n",
    "if response.status_code == 200:\n",
    "    print(\"Request successful!\")\n",
    "else:\n",
    "    print(f\"Failed to retrieve data. Status code: {response.status_code}\")\n",
    "\n",
    "# Parsing the JSON response\n",
    "data_json = response.json()\n",
    "\n",
    "# Convert the JSON data into a Pandas DataFrame for easier analysis\n",
    "data = pd.DataFrame(data_json)\n",
    "\n",
    "# Display the first few rows of the data\n",
    "print(data.head())\n"
   ]
  },
  {
   "cell_type": "markdown",
   "id": "220186ed-4ded-4216-a8d2-05a9bd5aa55f",
   "metadata": {},
   "source": [
    "**import requests:** Imports the requests library, which is used to send HTTP requests to the API.\n",
    "\n",
    "**response = requests.get('https://jsonplaceholder.typicode.com/posts'):**\n",
    "Sends an HTTP GET request to the API endpoint.\n",
    "The server responds with data, and this response is stored in the response object.\n",
    "\n",
    "**response.status_code:**\n",
    "\n",
    "Retrieves the HTTP status code from the response.\n",
    "\n",
    "A status code of 200 indicates that the request was successful.\n",
    "\n",
    "**response.json():**\n",
    "\n",
    "Parses the JSON-encoded content of the response.\n",
    "The .json() method converts the JSON data into a Python dictionary or list of dictionaries, depending on the structure of the JSON.\n",
    "\n",
    "**pd.DataFrame(data_json):**\n",
    "\n",
    "Converts the list of dictionaries (each representing a post) into a Pandas DataFrame, which is a tabular data structure suitable for analysis."
   ]
  },
  {
   "cell_type": "markdown",
   "id": "97404ccc-52f7-43e5-985e-d233787ee3ba",
   "metadata": {},
   "source": [
    "# 4. Importing Data From Text File\n",
    "\n",
    "**Refer to :** https://www.youtube.com/watch?v=L_FQyVTNnEs\n"
   ]
  },
  {
   "cell_type": "code",
   "execution_count": null,
   "id": "a844088f-4395-4801-9449-7f318453b23c",
   "metadata": {},
   "outputs": [],
   "source": []
  },
  {
   "cell_type": "markdown",
   "id": "73a2bb60-5bdc-464a-9f8a-fad5ecce9f1c",
   "metadata": {},
   "source": [
    "# Assignment"
   ]
  },
  {
   "cell_type": "markdown",
   "id": "86442880-27e2-4096-b226-16cf4a0428df",
   "metadata": {},
   "source": [
    "**Question 1: Basic API Request**\n",
    "    \n",
    "Write a Python script to fetch data from the following API endpoint: https://jsonplaceholder.typicode.com/posts. \n",
    "\n",
    "After fetching the data, print out the HTTP status code to confirm that the request was successful. If the status code indicates success, print the first 5 titles from the fetched data.\n",
    "\n",
    "**Hint: Use the requests library to make the API call and check the status code**"
   ]
  },
  {
   "cell_type": "code",
   "execution_count": 3,
   "id": "e7cdb778-2b10-47ed-9d5e-5590ee8ff222",
   "metadata": {},
   "outputs": [
    {
     "name": "stdout",
     "output_type": "stream",
     "text": [
      "Request successful!\n",
      "   userId  id                                              title  \\\n",
      "0       1   1  sunt aut facere repellat provident occaecati e...   \n",
      "1       1   2                                       qui est esse   \n",
      "2       1   3  ea molestias quasi exercitationem repellat qui...   \n",
      "3       1   4                               eum et est occaecati   \n",
      "4       1   5                                 nesciunt quas odio   \n",
      "\n",
      "                                                body  \n",
      "0  quia et suscipit\\nsuscipit recusandae consequu...  \n",
      "1  est rerum tempore vitae\\nsequi sint nihil repr...  \n",
      "2  et iusto sed quo iure\\nvoluptatem occaecati om...  \n",
      "3  ullam et saepe reiciendis voluptatem adipisci\\...  \n",
      "4  repudiandae veniam quaerat sunt sed\\nalias aut...  \n"
     ]
    }
   ],
   "source": [
    "import requests\n",
    "import pandas as pd\n",
    "\n",
    "# Fetching data from a web API\n",
    "response = requests.get('https://jsonplaceholder.typicode.com/posts')\n",
    "\n",
    "# Check if the request was successful\n",
    "if response.status_code == 200:\n",
    "    print(\"Request successful!\")\n",
    "else:\n",
    "    print(f\"Failed to retrieve data. Status code: {response.status_code}\")\n",
    "\n",
    "# Parsing the JSON response\n",
    "data_json = response.json()\n",
    "\n",
    "# Convert the JSON data into a Pandas DataFrame for easier analysis\n",
    "data = pd.DataFrame(data_json)\n",
    "\n",
    "# Display the first few rows of the data\n",
    "print(data.head())"
   ]
  },
  {
   "cell_type": "markdown",
   "id": "1e4a3f08-9dde-4095-9436-655701735e86",
   "metadata": {},
   "source": [
    "**Question 2: Creating and Querying a SQLite Database**\n",
    "\n",
    "Create a SQLite database named product_sales.db with a table called sales_data. The table should have the following columns: id (INTEGER, Primary Key), Date (TEXT), Product (TEXT), Sales (INTEGER), and Quantity (INTEGER).\n",
    "\n",
    "Insert the following data into the sales_data table:\n",
    "\n",
    "('2023-08-01', 'Widget A', 100, 4)\n",
    "('2023-08-01', 'Widget B', 150, 6)\n",
    "('2023-08-02', 'Widget A', 120, 5)\n",
    "('2023-08-02', 'Widget C', 200, 7)\n",
    "\n",
    "**Write a Python script that connects to the product_sales.db database and queries the total sales (Sales) for each product (Product). Print the results in a readable format.**\n",
    "\n",
    "Hint: Use sqlite3 for creating the database and inserting data, and use SQL queries to calculate the total sales per product."
   ]
  },
  {
   "cell_type": "code",
   "execution_count": 5,
   "id": "c0c367ee-27c1-4693-8bd9-7e422e47ae5b",
   "metadata": {},
   "outputs": [
    {
     "name": "stdout",
     "output_type": "stream",
     "text": [
      "Total Sales per Product:\n",
      "Product: Widget A, Total Sales: $220\n",
      "Product: Widget B, Total Sales: $150\n",
      "Product: Widget C, Total Sales: $200\n"
     ]
    }
   ],
   "source": [
    "import sqlite3\n",
    "\n",
    "# Step 1: Connect to SQLite database (or create it if it doesn't exist)\n",
    "conn = sqlite3.connect('product_sales.db')\n",
    "\n",
    "# Step 2: Create a cursor object to interact with the database\n",
    "cur = conn.cursor()\n",
    "\n",
    "# Step 3: Create the sales_data table if it doesn't exist\n",
    "cur.execute('''\n",
    "    CREATE TABLE IF NOT EXISTS sales_data (\n",
    "        id INTEGER PRIMARY KEY AUTOINCREMENT,\n",
    "        Date TEXT,\n",
    "        Product TEXT,\n",
    "        Sales INTEGER,\n",
    "        Quantity INTEGER\n",
    "    )\n",
    "''')\n",
    "\n",
    "# Step 4: Insert the given data into the sales_data table\n",
    "sales_records = [\n",
    "    ('2023-08-01', 'Widget A', 100, 4),\n",
    "    ('2023-08-01', 'Widget B', 150, 6),\n",
    "    ('2023-08-02', 'Widget A', 120, 5),\n",
    "    ('2023-08-02', 'Widget C', 200, 7)\n",
    "]\n",
    "\n",
    "cur.executemany('''\n",
    "    INSERT INTO sales_data (Date, Product, Sales, Quantity)\n",
    "    VALUES (?, ?, ?, ?)\n",
    "''', sales_records)\n",
    "\n",
    "# Commit the transaction\n",
    "conn.commit()\n",
    "\n",
    "# Step 5: Query the total sales for each product\n",
    "cur.execute('''\n",
    "    SELECT Product, SUM(Sales) as Total_Sales\n",
    "    FROM sales_data\n",
    "    GROUP BY Product\n",
    "''')\n",
    "\n",
    "# Step 6: Fetch and display the results\n",
    "results = cur.fetchall()\n",
    "print(\"Total Sales per Product:\")\n",
    "for row in results:\n",
    "    print(f\"Product: {row[0]}, Total Sales: ${row[1]}\")\n",
    "\n",
    "# Step 7: Close the connection\n",
    "conn.close()\n"
   ]
  },
  {
   "cell_type": "code",
   "execution_count": null,
   "id": "142a7897-aba8-4734-8758-5e4e93eebb27",
   "metadata": {},
   "outputs": [],
   "source": []
  }
 ],
 "metadata": {
  "kernelspec": {
   "display_name": "Python 3 (ipykernel)",
   "language": "python",
   "name": "python3"
  },
  "language_info": {
   "codemirror_mode": {
    "name": "ipython",
    "version": 3
   },
   "file_extension": ".py",
   "mimetype": "text/x-python",
   "name": "python",
   "nbconvert_exporter": "python",
   "pygments_lexer": "ipython3",
   "version": "3.11.7"
  }
 },
 "nbformat": 4,
 "nbformat_minor": 5
}
