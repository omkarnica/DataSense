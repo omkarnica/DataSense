{
 "cells": [
  {
   "cell_type": "markdown",
   "id": "6e183146-d1fa-4030-93a9-7cdb1a1fb9dc",
   "metadata": {},
   "source": [
    "# Data Sense Presents: The DSA Lab"
   ]
  },
  {
   "cell_type": "markdown",
   "id": "76475342-f0a2-4b43-a23e-0a8574fcf60d",
   "metadata": {},
   "source": [
    "# Linear Search Assignment 1"
   ]
  },
  {
   "cell_type": "markdown",
   "id": "736fd9b1-663b-44ff-bb0d-d1323748e6f0",
   "metadata": {},
   "source": [
    "**Question 1. Find the Last Occurrence of a Target Element**\n",
    "\n",
    "Given a list, find the index of the last occurrence of a target element. Return -1 if the element is not present.\n"
   ]
  },
  {
   "cell_type": "code",
   "execution_count": 81,
   "id": "7416c522-8ebd-494e-a329-cff2025f8be8",
   "metadata": {},
   "outputs": [
    {
     "name": "stdout",
     "output_type": "stream",
     "text": [
      "5\n"
     ]
    }
   ],
   "source": [
    "nums = [1, 2, 3, 2, 5, 2, 4]\n",
    "target = 2\n",
    "target_index=[]\n",
    "def last_occ(nums,target):\n",
    "    for index,value in enumerate(nums):\n",
    "        if value==target:\n",
    "            target_index.append(index)\n",
    "\n",
    "    return target_index[-1]\n",
    "    \n",
    "print (last_occ(nums,target))\n",
    "#Output: 5 (last occurrence of 2 is at index 5)"
   ]
  },
  {
   "cell_type": "markdown",
   "id": "5d7ab16f-1af7-4300-8dc0-421fd64d19d9",
   "metadata": {},
   "source": [
    "**Question 2. Find Two Closest Elements to the Target**\n",
    "\n",
    "Problem: Given a list and a target, find the two elements closest to the target.\n"
   ]
  },
  {
   "cell_type": "code",
   "execution_count": 99,
   "id": "0b891060-6a78-4ff2-a182-4631ee67701f",
   "metadata": {},
   "outputs": [
    {
     "name": "stdout",
     "output_type": "stream",
     "text": [
      "10 7\n"
     ]
    }
   ],
   "source": [
    "nums = [1, 4, 7, 10, 15]\n",
    "target = 9\n",
    "closest_two=[(float('inf'),None),(float('inf'),None)]\n",
    "\n",
    "for num in nums:\n",
    "    if abs(num-target)<closest_two[0][0]:\n",
    "        closest_two[1]=closest_two[0]\n",
    "        closest_two[0]=(abs(num-target),num)\n",
    "    elif abs(num-target)<closest_two[1][0]:\n",
    "        closest_two[1]=(abs(num-target),num)\n",
    "        \n",
    "print(closest_two[0][1],closest_two[1][1])\n",
    "\n",
    "# Output: [7, 10] (both 7 and 10 are closest to 9)"
   ]
  },
  {
   "cell_type": "markdown",
   "id": "5d26a882-35b4-462f-9ffe-821f9392b168",
   "metadata": {},
   "source": [
    "**Question 3. Find First Element That is a Multiple of Target**\n",
    "\n",
    "Find the first element in the list that is a multiple of the target.\n",
    "\n"
   ]
  },
  {
   "cell_type": "code",
   "execution_count": 21,
   "id": "6d0552db-885a-4d8b-8220-e9f34ecf1def",
   "metadata": {},
   "outputs": [
    {
     "name": "stdout",
     "output_type": "stream",
     "text": [
      "12\n"
     ]
    }
   ],
   "source": [
    "nums = [2, 5, 9, 12, 16]\n",
    "target = 4\n",
    "for i,j in enumerate(nums):\n",
    "    if j%target==0:\n",
    "        print(j)\n",
    "        break\n",
    "\n",
    "#Output: 12 (first multiple of 4)"
   ]
  },
  {
   "cell_type": "markdown",
   "id": "7661585f-97fc-4597-b1ec-4c0894104fdd",
   "metadata": {},
   "source": [
    "**Question 4. Find Element Whose Value Equals Its Index**\n",
    "\n",
    "Find an element whose value is equal to its index.\n"
   ]
  },
  {
   "cell_type": "code",
   "execution_count": 23,
   "id": "2b674c8e-532c-45b0-8891-6db3994f53f7",
   "metadata": {},
   "outputs": [
    {
     "name": "stdout",
     "output_type": "stream",
     "text": [
      "2\n"
     ]
    }
   ],
   "source": [
    "nums = [-3, 0, 2, 4, 5]\n",
    "for i,j in enumerate(nums):\n",
    "    if i==j:\n",
    "        print(j)\n",
    "        break\n",
    "\n",
    "# Output: 2 (element 2 is at index 2)"
   ]
  },
  {
   "cell_type": "markdown",
   "id": "85e253e6-436e-4b89-9e67-8753e7808cda",
   "metadata": {},
   "source": [
    "**Question 5. Count Elements Greater than All Previous Ones**\n",
    "\n",
    "Count how many elements are greater than all the previous elements.\n"
   ]
  },
  {
   "cell_type": "code",
   "execution_count": 101,
   "id": "76a5a589-2a86-4196-8b85-49780a20ffa7",
   "metadata": {},
   "outputs": [
    {
     "name": "stdout",
     "output_type": "stream",
     "text": [
      "[2, 6, 8]\n"
     ]
    }
   ],
   "source": [
    "nums = [2, 6, 3, 5, 8, 7]\n",
    "list=[nums[0]]\n",
    "max_till_now=nums[0]\n",
    "\n",
    "for num in nums:\n",
    "    if num>max_till_now:\n",
    "        list.append(num)\n",
    "        max_till_now=num\n",
    "        \n",
    "print(list)\n",
    "\n",
    "#Output: 4 (elements are [2, 4, 5, 8])"
   ]
  },
  {
   "cell_type": "markdown",
   "id": "edc19d39-c6e3-4240-af99-6f5099601a66",
   "metadata": {},
   "source": [
    "**Question 6. Find the Minimum Element Greater than a Threshold**\n",
    "\n",
    "Find the smallest element in the list that is greater than a given threshold t.\n"
   ]
  },
  {
   "cell_type": "code",
   "execution_count": 103,
   "id": "e802977a-2fa8-4810-8516-49624f2f7afd",
   "metadata": {},
   "outputs": [
    {
     "name": "stdout",
     "output_type": "stream",
     "text": [
      "15\n"
     ]
    }
   ],
   "source": [
    "nums = [10, 20, 5, 15, 30]\n",
    "t = 12\n",
    "smallest=float('inf')\n",
    "\n",
    "for i in range(len(nums)):\n",
    "    if nums[i]>t and nums[i]<smallest:\n",
    "        smallest=nums[i]\n",
    "print(smallest)\n",
    "#Output: 15\n"
   ]
  },
  {
   "cell_type": "markdown",
   "id": "f33b8357-5a54-4d1a-955f-ce8ff7a5a043",
   "metadata": {},
   "source": [
    "**Question 7. Find Elements within a Given Range [a, b]**\n",
    "\n",
    "Find all elements in the list that lie within the range [a, b].\n"
   ]
  },
  {
   "cell_type": "code",
   "execution_count": 49,
   "id": "a6496b46-1022-4bf4-a158-016ef0027d33",
   "metadata": {},
   "outputs": [
    {
     "name": "stdout",
     "output_type": "stream",
     "text": [
      "5\n",
      "8\n",
      "7\n"
     ]
    }
   ],
   "source": [
    "nums = [5, 3, 8, 10, 2, 7]\n",
    "a = 4\n",
    "b = 8\n",
    "\n",
    "for i,j in enumerate(nums):\n",
    "    if j>=a and j<=b:\n",
    "        print(j)\n",
    "\n",
    "\n",
    "#Output: [5, 8, 7]"
   ]
  },
  {
   "cell_type": "markdown",
   "id": "06a202be-afd1-4a63-8244-b86244b16bf4",
   "metadata": {},
   "source": [
    "**Question 8. Find the First Repeated Element**\n",
    "\n",
    "Find the first element that repeats in the list.\n"
   ]
  },
  {
   "cell_type": "code",
   "execution_count": 59,
   "id": "f9dd4138-a35d-4957-943a-211b519b69fb",
   "metadata": {},
   "outputs": [
    {
     "name": "stdout",
     "output_type": "stream",
     "text": [
      "2\n"
     ]
    }
   ],
   "source": [
    "nums = [5, 1, 2, 3, 3, 2]\n",
    "dict={}\n",
    "\n",
    "for i,j in enumerate(nums):\n",
    "    if j not in dict:\n",
    "        dict[j]=1\n",
    "    else:\n",
    "        dict[j]+=1\n",
    "\n",
    "for i,j in enumerate(nums):\n",
    "    if dict[j]>1:\n",
    "        print(j)\n",
    "        break\n",
    " \n",
    "\n",
    "#Output: 2"
   ]
  },
  {
   "cell_type": "markdown",
   "id": "c6eacbfe-822a-47a2-a767-aea6b7f8f99c",
   "metadata": {},
   "source": [
    "**Question 9. Find the k-th Smallest Element Using Linear Search**\n",
    "\n",
    "Using linear search, find the k-th smallest element without sorting the list.\n"
   ]
  },
  {
   "cell_type": "code",
   "execution_count": 109,
   "id": "ac590816-9d30-40da-9623-70200eb85708",
   "metadata": {},
   "outputs": [
    {
     "name": "stdout",
     "output_type": "stream",
     "text": [
      "[1, 2, 3]\n"
     ]
    }
   ],
   "source": [
    "nums = [5, 3, 1, 6, 4, 2]\n",
    "k = 3\n",
    "nums.sort()\n",
    "\n",
    "print(nums[:3])\n",
    "\n",
    "#Output: 3 (third smallest element)"
   ]
  },
  {
   "cell_type": "markdown",
   "id": "ed0d1546-ce7b-466c-a07f-748861e1904f",
   "metadata": {},
   "source": [
    "**Question 10. Find the Index of an Element Greater than k and Minimum Difference**\n",
    "\n",
    "Find the index of the first element that is greater than k and has the minimum difference with k.\n",
    "    \n"
   ]
  },
  {
   "cell_type": "code",
   "execution_count": 67,
   "id": "126d3566-def3-445b-9b62-845c5bfcbea3",
   "metadata": {},
   "outputs": [
    {
     "name": "stdout",
     "output_type": "stream",
     "text": [
      "2\n"
     ]
    }
   ],
   "source": [
    "nums = [1, 3, 5, 7, 9]\n",
    "k = 4\n",
    "diff=max(nums)\n",
    "for i,j in enumerate(nums):\n",
    "    if j>k:\n",
    "        if j-k<diff:\n",
    "            diff=j-k\n",
    "            index=i\n",
    "print(index)\n",
    "#Output: 2 (element 5 is greater than 4 with minimum difference)"
   ]
  },
  {
   "cell_type": "code",
   "execution_count": null,
   "id": "3f3f81c5-5044-414d-849b-726506246d6a",
   "metadata": {},
   "outputs": [],
   "source": []
  }
 ],
 "metadata": {
  "kernelspec": {
   "display_name": "Python 3 (ipykernel)",
   "language": "python",
   "name": "python3"
  },
  "language_info": {
   "codemirror_mode": {
    "name": "ipython",
    "version": 3
   },
   "file_extension": ".py",
   "mimetype": "text/x-python",
   "name": "python",
   "nbconvert_exporter": "python",
   "pygments_lexer": "ipython3",
   "version": "3.11.7"
  }
 },
 "nbformat": 4,
 "nbformat_minor": 5
}
