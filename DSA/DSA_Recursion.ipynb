{
 "cells": [
  {
   "cell_type": "markdown",
   "id": "e844086a-9baa-49c2-9095-d6d7fef21f5e",
   "metadata": {},
   "source": [
    "# Data Sense Presents: The DSA Lab"
   ]
  },
  {
   "cell_type": "markdown",
   "id": "b0088cc4-9940-4327-9b3e-119b9d6c7279",
   "metadata": {},
   "source": [
    "# Recursion"
   ]
  },
  {
   "cell_type": "markdown",
   "id": "0652b49e-ee4f-41a0-9a04-b815e4fdfbc6",
   "metadata": {},
   "source": [
    "**Introduction to Recursion**\n",
    "\n",
    "Recursion is a programming technique where a function calls itself in order to solve a problem. Recursive functions are helpful in situations where a problem can be broken down into smaller, identical sub-problems.\n",
    "\n",
    "**Key Concepts**\n",
    "\n",
    "1. Base Case: The condition that stops the recursion. Without a base case, the function would call itself infinitely.\n",
    "2. Recursive Case: The part of the function where it calls itself with a modified argument, moving closer to the base case.\n",
    "3. Call Stack: Each recursive call adds a new layer to the call stack, which stores information about that function call. When the base case is reached, the call stack unwinds and each function call returns a result to its previous layer.\n"
   ]
  },
  {
   "cell_type": "markdown",
   "id": "b0f25fd9-2ecb-49eb-955b-43d1985c0c98",
   "metadata": {},
   "source": [
    " **Example 1: Factorial of a Number**\n",
    " \n",
    "The factorial of a number \n",
    "𝑛(denoted as 𝑛!) is the product of all positive integers less than or equal to 𝑛\n",
    "\n",
    "For example- 4!=4×3×2×1=24.\n",
    "\n"
   ]
  },
  {
   "cell_type": "code",
   "execution_count": 8,
   "id": "13a20516-6094-4970-8309-2c324cd26ac1",
   "metadata": {},
   "outputs": [],
   "source": [
    "def factorial(n):\n",
    "    # Base Case\n",
    "    if n == 0 or n == 1:\n",
    "        return 1\n",
    "    # Recursive Case\n",
    "    else:\n",
    "        return n * factorial(n - 1)\n"
   ]
  },
  {
   "cell_type": "markdown",
   "id": "7544986c-a17a-4458-822c-da2ba861be42",
   "metadata": {},
   "source": [
    "Base Case: If n is 0 or 1, we return 1 (since 0!=1 and 1!=1).\n",
    "Recursive Case: For any other number n, we call factorial(n-1), which continues until we reach the base case."
   ]
  },
  {
   "cell_type": "markdown",
   "id": "6b2daa04-208c-448d-9eae-519857a1df5a",
   "metadata": {},
   "source": [
    "**Example 2: Fibonacci Sequence**\n",
    "    \n",
    "The Fibonacci sequence is a series of numbers where each number is the sum of the two preceding ones, usually starting with 0 and 1."
   ]
  },
  {
   "cell_type": "code",
   "execution_count": 12,
   "id": "70f2d1af-96a3-4dfb-893c-955a58e5db6a",
   "metadata": {},
   "outputs": [],
   "source": [
    "def fibonacci(n):\n",
    "    # Base Cases\n",
    "    if n == 0:\n",
    "        return 0\n",
    "    elif n == 1:\n",
    "        return 1\n",
    "    # Recursive Case\n",
    "    else:\n",
    "        return fibonacci(n - 1) + fibonacci(n - 2)\n"
   ]
  },
  {
   "cell_type": "markdown",
   "id": "edcbbe54-b4cf-447a-85f3-a92443cc728c",
   "metadata": {},
   "source": [
    "**Example 3: Sum of Digits**\n",
    "\n",
    "This function calculates the sum of digits in a number. For example, the sum of digits of 1234 is 1+2+3+4=10\n",
    "1+2+3+4=10.\n"
   ]
  },
  {
   "cell_type": "code",
   "execution_count": 17,
   "id": "b774f77f-62dd-45d9-bba6-8b50a0940596",
   "metadata": {},
   "outputs": [],
   "source": [
    "def sum_of_digits(n):\n",
    "    # Base Case\n",
    "    if n == 0:\n",
    "        return 0\n",
    "    # Recursive Case\n",
    "    else:\n",
    "        return n % 10 + sum_of_digits(n // 10)\n"
   ]
  },
  {
   "cell_type": "markdown",
   "id": "5fc0efd6-33e0-462f-b066-1e6232397cbf",
   "metadata": {},
   "source": [
    "# Assignment"
   ]
  },
  {
   "cell_type": "markdown",
   "id": "5d60e23a-4ac3-482d-9a56-77c5c964673a",
   "metadata": {},
   "source": [
    "**Question: 1. Power of a Number**\n",
    "    \n",
    "Write a recursive function power(base, exp) that calculates base^exp.\n"
   ]
  },
  {
   "cell_type": "code",
   "execution_count": null,
   "id": "0a4b2594-76a7-4b6c-99ff-58ccd41b3301",
   "metadata": {},
   "outputs": [],
   "source": [
    "# Test Case 1\n",
    "print(power(2, 3))  # Expected output: 8\n",
    "\n",
    "# Test Case 2\n",
    "print(power(5, 0))  # Expected output: 1\n",
    "\n",
    "# Test Case 3\n",
    "print(power(7, 2))  # Expected output: 49\n",
    "\n",
    "# Test Case 4\n",
    "print(power(3, 4))  # Expected output: 81\n",
    "\n",
    "# Test Case 5\n",
    "print(power(10, 1)) # Expected output: 10\n"
   ]
  },
  {
   "cell_type": "code",
   "execution_count": 1,
   "id": "481bca1e-9fc6-469f-b0e2-25dc7e5df553",
   "metadata": {},
   "outputs": [
    {
     "name": "stdout",
     "output_type": "stream",
     "text": [
      "8\n",
      "1\n",
      "49\n",
      "81\n",
      "10\n"
     ]
    }
   ],
   "source": [
    "def power(base,exp):\n",
    "    if exp==0:\n",
    "        return 1\n",
    "    else:\n",
    "        return base*power(base,exp-1)\n",
    "\n",
    "\n",
    "# Test Case 1\n",
    "print(power(2, 3))  # Expected output: 8\n",
    "\n",
    "# Test Case 2\n",
    "print(power(5, 0))  # Expected output: 1\n",
    "\n",
    "# Test Case 3\n",
    "print(power(7, 2))  # Expected output: 49\n",
    "\n",
    "# Test Case 4\n",
    "print(power(3, 4))  # Expected output: 81\n",
    "\n",
    "# Test Case 5\n",
    "print(power(10, 1)) # Expected output: 10\n"
   ]
  },
  {
   "cell_type": "markdown",
   "id": "0244221b-311f-4244-8a38-c0f42c3d7a69",
   "metadata": {},
   "source": [
    "**Question 2: Product of Array Elements**\n",
    "    \n",
    "Write a recursive function product_of_array(arr) that returns the product of all elements in an array."
   ]
  },
  {
   "cell_type": "code",
   "execution_count": null,
   "id": "1bedb0c1-af6c-43d1-8f51-5b5c857c0fe2",
   "metadata": {},
   "outputs": [],
   "source": [
    "# Test Case 1\n",
    "print(product_of_array([2, 3, 4]))  # Expected output: 24\n",
    "\n",
    "# Test Case 2\n",
    "print(product_of_array([1, 5, 7]))  # Expected output: 35\n",
    "\n",
    "# Test Case 3\n",
    "print(product_of_array([1, 2, 3, 4]))  # Expected output: 24\n",
    "\n",
    "# Test Case 4\n",
    "print(product_of_array([10]))  # Expected output: 10\n",
    "\n",
    "# Test Case 5\n",
    "print(product_of_array([]))  # Expected output: 1 (assuming empty array has a product of 1)\n"
   ]
  },
  {
   "cell_type": "code",
   "execution_count": 5,
   "id": "0e376e4d-4cd6-448f-a609-afc3bc4284bc",
   "metadata": {},
   "outputs": [
    {
     "name": "stdout",
     "output_type": "stream",
     "text": [
      "24\n",
      "35\n",
      "24\n",
      "10\n",
      "1\n"
     ]
    }
   ],
   "source": [
    "def product_of_array(l):\n",
    "    if l==[]:\n",
    "        return 1\n",
    "    else:\n",
    "        a=l[-1]\n",
    "        l.pop()\n",
    "        return a*product_of_array(l)\n",
    "\n",
    "# Test Case 1\n",
    "print(product_of_array([2, 3, 4]))  # Expected output: 24\n",
    "\n",
    "# Test Case 2\n",
    "print(product_of_array([1, 5, 7]))  # Expected output: 35\n",
    "\n",
    "# Test Case 3\n",
    "print(product_of_array([1, 2, 3, 4]))  # Expected output: 24\n",
    "\n",
    "# Test Case 4\n",
    "print(product_of_array([10]))  # Expected output: 10\n",
    "\n",
    "# Test Case 5\n",
    "print(product_of_array([]))  # Expected output: 1 (assuming empty array has a product of 1)"
   ]
  },
  {
   "cell_type": "markdown",
   "id": "762cc54b-d12d-4d51-8d74-617fc980c039",
   "metadata": {},
   "source": [
    "**Question 3:Reverse a String**\n",
    "    \n",
    "Write a recursive function reverse_string(s) that returns the reversed version of a string s."
   ]
  },
  {
   "cell_type": "code",
   "execution_count": null,
   "id": "afafa1f1-1245-49a8-8ebe-b8f6c474d43b",
   "metadata": {},
   "outputs": [],
   "source": [
    "# Test Case 1\n",
    "print(reverse_string(\"hello\"))  # Expected output: \"olleh\"\n",
    "\n",
    "# Test Case 2\n",
    "print(reverse_string(\"recursion\"))  # Expected output: \"noisrucer\"\n",
    "\n",
    "# Test Case 3\n",
    "print(reverse_string(\"abcd\"))  # Expected output: \"dcba\"\n",
    "\n",
    "# Test Case 4\n",
    "print(reverse_string(\"a\"))  # Expected output: \"a\"\n",
    "\n",
    "# Test Case 5\n",
    "print(reverse_string(\"\"))  # Expected output: \"\"\n"
   ]
  },
  {
   "cell_type": "code",
   "execution_count": 11,
   "id": "87b9b2c4-c6e9-47c5-a40e-a49dc2b68b5f",
   "metadata": {},
   "outputs": [
    {
     "name": "stdout",
     "output_type": "stream",
     "text": [
      "olleh\n",
      "noisrucer\n",
      "dcba\n",
      "a\n",
      "\n"
     ]
    }
   ],
   "source": [
    "def reverse_string(str):\n",
    "    \n",
    "    if str==\"\":\n",
    "        return \"\"\n",
    "    else:\n",
    "        l=len(str)\n",
    "        last_word=str[-1]\n",
    "        str=str[:l-1]\n",
    "        return last_word + reverse_string(str)\n",
    "\n",
    "# Test Case 1\n",
    "print(reverse_string(\"hello\"))  # Expected output: \"olleh\"\n",
    "\n",
    "# Test Case 2\n",
    "print(reverse_string(\"recursion\"))  # Expected output: \"noisrucer\"\n",
    "\n",
    "# Test Case 3\n",
    "print(reverse_string(\"abcd\"))  # Expected output: \"dcba\"\n",
    "\n",
    "# Test Case 4\n",
    "print(reverse_string(\"a\"))  # Expected output: \"a\"\n",
    "\n",
    "# Test Case 5\n",
    "print(reverse_string(\"\"))  # Expected output: \"\""
   ]
  },
  {
   "cell_type": "markdown",
   "id": "47bdfbcd-cdfb-4c7d-8755-8d5bc9eb272f",
   "metadata": {},
   "source": [
    "**Question 4: Count Occurrences**\n",
    "    \n",
    "Write a recursive function count_occurrences(s, char) that returns the number of times a character char appears in a string s.\n",
    "\n"
   ]
  },
  {
   "cell_type": "code",
   "execution_count": 20,
   "id": "0af66606-4984-4cf7-bbcc-2e4313f30d8a",
   "metadata": {},
   "outputs": [
    {
     "ename": "SyntaxError",
     "evalue": "expected 'else' after 'if' expression (3949513530.py, line 6)",
     "output_type": "error",
     "traceback": [
      "\u001b[0;36m  Cell \u001b[0;32mIn[20], line 6\u001b[0;36m\u001b[0m\n\u001b[0;31m    count=1 if char==s[-1]\u001b[0m\n\u001b[0m          ^\u001b[0m\n\u001b[0;31mSyntaxError\u001b[0m\u001b[0;31m:\u001b[0m expected 'else' after 'if' expression\n"
     ]
    }
   ],
   "source": [
    "def count_occurrences(s, char):\n",
    "    count=0\n",
    "    if char not in s:\n",
    "        return count\n",
    "    else:\n",
    "        count=1 if char==s[-1] else \n",
    "        return count+count_occurrences(s,char)\n",
    "print(count_occurrences(\"hello\",'l'))"
   ]
  },
  {
   "cell_type": "code",
   "execution_count": null,
   "id": "8b3f11e5-ba17-44bf-a6d7-a5e753cee4e4",
   "metadata": {},
   "outputs": [],
   "source": []
  }
 ],
 "metadata": {
  "kernelspec": {
   "display_name": "Python 3 (ipykernel)",
   "language": "python",
   "name": "python3"
  },
  "language_info": {
   "codemirror_mode": {
    "name": "ipython",
    "version": 3
   },
   "file_extension": ".py",
   "mimetype": "text/x-python",
   "name": "python",
   "nbconvert_exporter": "python",
   "pygments_lexer": "ipython3",
   "version": "3.11.7"
  }
 },
 "nbformat": 4,
 "nbformat_minor": 5
}
