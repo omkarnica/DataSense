{
 "cells": [
  {
   "cell_type": "markdown",
   "id": "da0ce3bd-04d3-4055-8b8f-05dbfcd44147",
   "metadata": {},
   "source": [
    "**Question 1: Find the First Palindrome in a List**\n",
    "\n",
    "Write a function that performs a linear search to find the first palindrome string in a list. Return the palindrome if found; otherwise, return None.\n",
    "\n",
    "**Test Case:**"
   ]
  },
  {
   "cell_type": "code",
   "execution_count": null,
   "id": "afc44c4e-0ce2-4573-9c5e-1a6b2d5d0038",
   "metadata": {},
   "outputs": [],
   "source": [
    "# Test Cases\n",
    "print(find_first_palindrome([\"hello\", \"madam\", \"world\"]))  \n",
    "# Expected Output: 'madam'\n",
    "\n",
    "print(find_first_palindrome([\"abc\", \"xyz\", \"def\"]))  \n",
    "# Expected Output: None\n",
    "\n",
    "print(find_first_palindrome([\"level\", \"noon\", \"radar\"]))  \n",
    "# Expected Output: 'level'"
   ]
  },
  {
   "cell_type": "code",
   "execution_count": 27,
   "id": "bf54392f-afd6-4c3f-b4a4-93ea607dd526",
   "metadata": {},
   "outputs": [
    {
     "name": "stdout",
     "output_type": "stream",
     "text": [
      "madam\n",
      "None\n",
      "level\n"
     ]
    }
   ],
   "source": [
    "\n",
    "#doing without list comprehension, TC is o(n)\n",
    "\n",
    "def find_first_palindrome(l):\n",
    "    for k in l:\n",
    "        if k==k[::-1]:\n",
    "            return k\n",
    "\n",
    "\n",
    "#tried using list comprehension but didn't work\n",
    "# def find_first_palindrome(l):\n",
    "#     p_list=[k for k in l if k==k[::-1]]\n",
    "#     return p_list[0]\n",
    "    \n",
    "\n",
    "# Test Cases\n",
    "print(find_first_palindrome([\"hello\", \"madam\", \"world\"]))  \n",
    "# Expected Output: 'madam'\n",
    "\n",
    "print(find_first_palindrome([\"abc\", \"xyz\", \"def\"]))  \n",
    "# Expected Output: None\n",
    "\n",
    "print(find_first_palindrome([\"level\", \"noon\", \"radar\"]))  \n",
    "# Expected Output: 'level'"
   ]
  },
  {
   "cell_type": "markdown",
   "id": "6485eee1-9530-48fe-93ff-9d7db54edce3",
   "metadata": {},
   "source": [
    "**Question 2: Find the Maximum Odd Number**\n",
    "\n",
    "**Problem:**\n",
    "  \n",
    "Given a list of integers, write a function to search for the maximum odd number. If no odd number is found, return None.\n",
    "\n",
    "**Test Cases:**"
   ]
  },
  {
   "cell_type": "code",
   "execution_count": null,
   "id": "e3dee248-efc6-4a8f-8b04-79d2ef190580",
   "metadata": {},
   "outputs": [],
   "source": [
    "print(find_max_odd([2, 3, 7, 10]))\n",
    "# Expected Output: 7\n",
    "\n",
    "print(find_max_odd([2, 4, 6, 8]))\n",
    "# Expected Output: None\n",
    "\n",
    "print(find_max_odd([5, 5, 1]))\n",
    "# Expected Output: 5\n"
   ]
  },
  {
   "cell_type": "code",
   "execution_count": 52,
   "id": "226c3263-2a66-4e4a-97d1-6084973d08e8",
   "metadata": {},
   "outputs": [
    {
     "name": "stdout",
     "output_type": "stream",
     "text": [
      "7\n",
      "None\n",
      "5\n"
     ]
    }
   ],
   "source": [
    "#TC is O(n)\n",
    "def find_max_odd(l):\n",
    "    if not [k for k in l if k%2==1]: # [k for k in l if k%2==1] is None or [k for k in l if k%2==1] ==None  didnt work\n",
    "        return None \n",
    "    else:\n",
    "        return max([k for k in l if k%2==1])\n",
    "\n",
    "print(find_max_odd([2, 3, 7, 10]))\n",
    "# Expected Output: 7\n",
    "\n",
    "print(find_max_odd([2, 4, 6, 8]))\n",
    "# Expected Output: None\n",
    "\n",
    "print(find_max_odd([5, 5, 1]))\n",
    "# Expected Output: 5\n"
   ]
  },
  {
   "cell_type": "markdown",
   "id": "763b0f16-8a49-4f33-81c0-8ebdbede2620",
   "metadata": {},
   "source": [
    "**Question 3. Search for Common Elements in Two Lists**\n",
    "\n",
    "**Problem:**\n",
    "\n",
    "Given two lists, write a function that returns a list of common elements using linear search.\n",
    "\n",
    "**Test Cases:**"
   ]
  },
  {
   "cell_type": "code",
   "execution_count": null,
   "id": "94387fb1-fcef-4179-a923-88c07ba1187c",
   "metadata": {},
   "outputs": [],
   "source": [
    "print(find_common_elements([1, 2, 3], [2, 3, 4]))\n",
    "# Expected Output: [2, 3]\n",
    "\n",
    "print(find_common_elements([5, 6], [7, 8]))\n",
    "# Expected Output: []\n",
    "\n",
    "print(find_common_elements([1, 2], [1, 2, 3, 4]))\n",
    "# Expected Output: [1, 2]\n"
   ]
  },
  {
   "cell_type": "code",
   "execution_count": 63,
   "id": "1bc0890e-4c5d-4e9a-86c3-400628abc6f7",
   "metadata": {},
   "outputs": [
    {
     "name": "stdout",
     "output_type": "stream",
     "text": [
      "[2, 3]\n",
      "[]\n",
      "[1, 2]\n"
     ]
    }
   ],
   "source": [
    "\n",
    "#TC is o(n)\n",
    "def find_common_elements(l1,l2):\n",
    "    \n",
    "    if len(l1)>=len(l2):\n",
    "        list=[]\n",
    "        for i in l1:\n",
    "            if i in l2:\n",
    "                list.append(i)\n",
    "\n",
    "    if len(l2)>len(l1):\n",
    "        list=[]\n",
    "        for i in l2:\n",
    "            if i in l1:\n",
    "                list.append(i)\n",
    "    return list\n",
    "\n",
    "print(find_common_elements([1, 2, 3], [2, 3, 4]))\n",
    "# Expected Output: [2, 3]\n",
    "\n",
    "print(find_common_elements([5, 6], [7, 8]))\n",
    "# Expected Output: []\n",
    "\n",
    "print(find_common_elements([1, 2], [1, 2, 3, 4]))\n",
    "# Expected Output: [1, 2]\n",
    "                "
   ]
  },
  {
   "cell_type": "markdown",
   "id": "76788f80-da9b-4fd2-9579-7d2f4a2fafa9",
   "metadata": {},
   "source": [
    "**Question 4: Search for Substrings in a List of Sentences**\n",
    "    \n",
    "**Problem:** \n",
    "    \n",
    "Given a list of sentences, write a function to find all sentences containing a specific word.\n",
    "\n",
    "**Test Cases:**"
   ]
  },
  {
   "cell_type": "code",
   "execution_count": null,
   "id": "d9e67226-6f4c-4265-b8ae-6190ca974ced",
   "metadata": {},
   "outputs": [],
   "source": [
    "print(find_sentences_with_word([\"I love Python\", \"Python is great\"], \"Python\"))\n",
    "# Expected Output: ['I love Python', 'Python is great']\n",
    "\n",
    "print(find_sentences_with_word([\"Hello world\"], \"Python\"))\n",
    "# Expected Output: []\n",
    "\n",
    "print(find_sentences_with_word([\"Coding is fun\", \"Python rocks\"], \"rocks\"))\n",
    "# Expected Output: ['Python rocks']\n"
   ]
  },
  {
   "cell_type": "code",
   "execution_count": 67,
   "id": "4c89d714-1a0b-4023-8400-98bf26b4b27d",
   "metadata": {},
   "outputs": [
    {
     "name": "stdout",
     "output_type": "stream",
     "text": [
      "['I love Python', 'Python is great']\n",
      "[]\n",
      "['Python rocks']\n"
     ]
    }
   ],
   "source": [
    "def find_sentences_with_word(list,w):\n",
    "    return [a for a in list if w in a]\n",
    "\n",
    "print(find_sentences_with_word([\"I love Python\", \"Python is great\"], \"Python\"))\n",
    "# Expected Output: ['I love Python', 'Python is great']\n",
    "\n",
    "print(find_sentences_with_word([\"Hello world\"], \"Python\"))\n",
    "# Expected Output: []\n",
    "\n",
    "print(find_sentences_with_word([\"Coding is fun\", \"Python rocks\"], \"rocks\"))\n",
    "# Expected Output: ['Python rocks']"
   ]
  },
  {
   "cell_type": "markdown",
   "id": "a426758c-ffbb-42ff-af94-0a090f600a6f",
   "metadata": {},
   "source": [
    "**Question 5: Find the First Non-Repeating Element**\n",
    "\n",
    "**Problem:**\n",
    "\n",
    "Given a list of integers, write a function to find the first non-repeating element.\n",
    "\n",
    "**Test Cases:**"
   ]
  },
  {
   "cell_type": "code",
   "execution_count": null,
   "id": "3cc3060e-4fcc-408d-90f8-b60210de1f74",
   "metadata": {},
   "outputs": [],
   "source": [
    "print(find_first_non_repeating([1, 2, 2, 3, 3, 4]))\n",
    "# Expected Output: 1\n",
    "\n",
    "print(find_first_non_repeating([5, 5, 6, 6]))\n",
    "# Expected Output: None\n",
    "\n",
    "print(find_first_non_repeating([7, 8, 9]))\n",
    "# Expected Output: 7\n"
   ]
  },
  {
   "cell_type": "code",
   "execution_count": 71,
   "id": "0f1c6769-1b20-4ea5-8e64-ae2129aa03d8",
   "metadata": {},
   "outputs": [
    {
     "name": "stdout",
     "output_type": "stream",
     "text": [
      "1\n",
      "None\n",
      "7\n"
     ]
    }
   ],
   "source": [
    "#TC is o(n)\n",
    "def find_first_non_repeating(list):\n",
    "    h={}\n",
    "    for l in list:\n",
    "        if l in h:\n",
    "            h[l]+=1\n",
    "        else:\n",
    "            h[l]=1\n",
    "    for i,j in enumerate(h):\n",
    "        if h[j]==1:\n",
    "            return j\n",
    "\n",
    "print(find_first_non_repeating([1, 2, 2, 3, 3, 4]))\n",
    "# Expected Output: 1\n",
    "\n",
    "print(find_first_non_repeating([5, 5, 6, 6]))\n",
    "# Expected Output: None\n",
    "\n",
    "print(find_first_non_repeating([7, 8, 9]))\n",
    "# Expected Output: 7"
   ]
  },
  {
   "cell_type": "markdown",
   "id": "659a9451-575a-4234-8b79-76c3691e5563",
   "metadata": {},
   "source": [
    "**Question 6: Find All Students Who Scored Above Average**\n",
    "\n",
    "**Problem:**\n",
    "\n",
    "You are given a list of students with their scores in a recent competition. Each student is represented as a tuple containing their name and score. Write a function to find all students who scored above the average. If no one scores above average, return an empty list.\n",
    "\n",
    "**Test Cases**"
   ]
  },
  {
   "cell_type": "code",
   "execution_count": null,
   "id": "d685c3b9-ec8c-489c-85fd-dfe290a0b7f2",
   "metadata": {},
   "outputs": [],
   "source": [
    "students = [(\"Tony\", 85), (\"Steve\", 70), (\"Natasha\", 90), (\"Bruce\", 60)]\n",
    "print(find_above_average_students(students))\n",
    "# Expected Output: ['Tony', 'Natasha']\n",
    "\n",
    "students = [(\"Thor\", 50), (\"Loki\", 40), (\"Hawkeye\", 45)]\n",
    "print(find_above_average_students(students))\n",
    "# Expected Output: []\n",
    "\n",
    "students = [(\"Peter\", 80), (\"Wanda\", 95), (\"Vision\", 85), (\"Strange\", 75)]\n",
    "print(find_above_average_students(students))\n",
    "# Expected Output: ['Peter', 'Wanda', 'Vision']\n"
   ]
  },
  {
   "cell_type": "code",
   "execution_count": 83,
   "id": "3d7f520d-03c3-4e51-a1b2-982aff8cbdce",
   "metadata": {},
   "outputs": [
    {
     "name": "stdout",
     "output_type": "stream",
     "text": [
      "avg score= 76.25\n",
      "['Tony', 'Natasha']\n",
      "avg score= 45.0\n",
      "['Thor']\n",
      "avg score= 83.75\n",
      "['Wanda', 'Vision']\n"
     ]
    }
   ],
   "source": [
    "#TC is o (n)\n",
    "\n",
    "def find_above_average_students(list):\n",
    "    ssum=0\n",
    "    for name,score in list:\n",
    "        ssum+=score\n",
    "    savg = ssum/ len(list)\n",
    "    print (\"avg score=\", savg)\n",
    "    return [name for name,score in list if score>savg ]\n",
    "    \n",
    "students = [(\"Tony\", 85), (\"Steve\", 70), (\"Natasha\", 90), (\"Bruce\", 60)]\n",
    "print(find_above_average_students(students))\n",
    "# Expected Output: ['Tony', 'Natasha']\n",
    "\n",
    "students = [(\"Thor\", 50), (\"Loki\", 40), (\"Hawkeye\", 45)]\n",
    "print(find_above_average_students(students))\n",
    "# Expected Output: []\n",
    "\n",
    "students = [(\"Peter\", 80), (\"Wanda\", 95), (\"Vision\", 85), (\"Strange\", 75)]\n",
    "print(find_above_average_students(students))\n",
    "# Expected Output: ['Peter', 'Wanda', 'Vision']"
   ]
  },
  {
   "cell_type": "markdown",
   "id": "d428d646-6953-4882-8444-4df34b160e41",
   "metadata": {},
   "source": [
    "**Question 7: Find the First Missing Positive Integer**\n",
    "\n",
    "**Problem:**\n",
    "\n",
    "You are given a list of integers, which may include negative numbers, zero, and duplicates. Write a function to find the smallest positive integer (starting from 1) that is missing from the list. Your solution should be efficient and maintain O(n) time complexity. Ignore non-positive numbers in your search.\n",
    "\n",
    "**Test Cases**"
   ]
  },
  {
   "cell_type": "code",
   "execution_count": null,
   "id": "266521e8-9985-409e-9d8c-9f878f9576e7",
   "metadata": {},
   "outputs": [],
   "source": [
    "print(find_first_missing_positive([3, 4, -1, 1]))\n",
    "# Expected Output: 2\n",
    "\n",
    "print(find_first_missing_positive([1, 2, 0]))\n",
    "# Expected Output: 3\n",
    "\n",
    "print(find_first_missing_positive([2, 3, 4, 5]))\n",
    "# Expected Output: 1\n"
   ]
  },
  {
   "cell_type": "code",
   "execution_count": 121,
   "id": "fea90e55-9aa2-4d37-beef-5ec05a061a7f",
   "metadata": {},
   "outputs": [
    {
     "name": "stdout",
     "output_type": "stream",
     "text": [
      "2\n",
      "3\n",
      "1\n"
     ]
    }
   ],
   "source": [
    "def find_first_missing_positive(list):\n",
    "    \n",
    "    for k in list:\n",
    "        if k<0:\n",
    "            list.remove(k)\n",
    "            \n",
    "    min_l=min(list)\n",
    "    max_l=max(list) \n",
    "    if max_l<len(list):\n",
    "        max_l=len(list)\n",
    "        for i in range(1,max_l+1):\n",
    "            if i not in list:\n",
    "                return i\n",
    "\n",
    "    else:\n",
    "        for i in range(1,max_l):\n",
    "            if i not in list:\n",
    "                return i\n",
    "\n",
    "print(find_first_missing_positive([3, 4, -1, 1]))\n",
    "# Expected Output: 2\n",
    "\n",
    "print(find_first_missing_positive([1, 2, 0]))\n",
    "# Expected Output: 3\n",
    "\n",
    "print(find_first_missing_positive([2, 3, 4, 5]))\n",
    "# Expected Output: 1"
   ]
  },
  {
   "cell_type": "markdown",
   "id": "524f6394-7394-4826-8c86-759940ed1296",
   "metadata": {},
   "source": [
    "**Question 8:  Identify All Prime Numbers in a List**\n",
    "\n",
    "**Problem:**\n",
    "\n",
    "Given a list of integers, write a function to find all prime numbers using linear search. A prime number is a natural number greater than 1 that has no divisors other than 1 and itself. The solution should be efficient and maintain O(n) time complexity for the search (though checking for primality will take O(√k) for each number)."
   ]
  },
  {
   "cell_type": "code",
   "execution_count": null,
   "id": "72f37c0b-68d0-41ea-8421-af1aaa3958a4",
   "metadata": {},
   "outputs": [],
   "source": [
    "print(find_prime_numbers([10, 3, 5, 8, 13]))\n",
    "# Expected Output: [3, 5, 13]\n",
    "\n",
    "\n",
    "print(find_prime_numbers([1, 2, 4, 6, 9]))\n",
    "# Expected Output: [2]\n",
    "\n",
    "\n",
    "print(find_prime_numbers([15, 21, 22, 25]))\n",
    "# Expected Output: []\n"
   ]
  },
  {
   "cell_type": "code",
   "execution_count": 139,
   "id": "cebabb79-5d8a-4564-9e78-e7fce8024ad8",
   "metadata": {},
   "outputs": [
    {
     "name": "stdout",
     "output_type": "stream",
     "text": [
      "[3, 5, 13]\n",
      "[2]\n",
      "[]\n"
     ]
    }
   ],
   "source": [
    "def find_prime_numbers(list):\n",
    "    prime_no=[]\n",
    "    for l in list:\n",
    "        div=0\n",
    "        for i in range(1,l):\n",
    "            if l%i==0:\n",
    "                div+=1\n",
    "\n",
    "        # print(f\"divisors of {l} are \", div)\n",
    "        if div==1:\n",
    "            prime_no.append(l)\n",
    "    return prime_no\n",
    "print(find_prime_numbers([10, 3, 5, 8, 13]))\n",
    "# Expected Output: [3, 5, 13]\n",
    "\n",
    "\n",
    "print(find_prime_numbers([1, 2, 4, 6, 9]))\n",
    "# Expected Output: [2]\n",
    "\n",
    "\n",
    "print(find_prime_numbers([15, 21, 22, 25]))\n",
    "# Expected Output: []\n"
   ]
  },
  {
   "cell_type": "markdown",
   "id": "02adb88f-d3cd-4538-be2d-c8c7f8513272",
   "metadata": {},
   "source": [
    "**Question 9: Find the Most Frequent Element**\n",
    "\n",
    "**Problem:**\n",
    "  \n",
    "Given a list of integers, write a function to find the most frequent element. If there are multiple elements with the same frequency, return any one of them."
   ]
  },
  {
   "cell_type": "code",
   "execution_count": null,
   "id": "191fc755-785e-42ad-8853-98e5e04da52d",
   "metadata": {},
   "outputs": [],
   "source": [
    "print(find_most_frequent([1, 2, 2, 3, 3, 3]))\n",
    "# Expected Output: 3\n",
    "\n",
    "\n",
    "print(find_most_frequent([4, 4, 5, 5, 6]))\n",
    "# Expected Output: 4 or 5\n",
    "\n",
    "\n",
    "print(find_most_frequent([7]))\n",
    "# Expected Output: 7\n"
   ]
  },
  {
   "cell_type": "code",
   "execution_count": 153,
   "id": "84d81331-dc79-49e8-8450-b8b088aee887",
   "metadata": {},
   "outputs": [
    {
     "name": "stdout",
     "output_type": "stream",
     "text": [
      "3\n",
      "4\n",
      "7\n"
     ]
    }
   ],
   "source": [
    "def find_most_frequent(list):\n",
    "    h={}\n",
    "    for l in list:\n",
    "        if l in h:\n",
    "            h[l]+=1\n",
    "        else:\n",
    "            h[l]=1\n",
    "    maxvalue=0  \n",
    "    for i,j in enumerate(h):        #CAN THIS STEP BE DOBE IS SHORT USING MAX FUNCTION ?\n",
    "       if h[j]>maxvalue:\n",
    "           maxvalue=h[j]\n",
    "           maxkey= j\n",
    "           \n",
    "    return maxkey\n",
    "       \n",
    "print(find_most_frequent([1, 2, 2, 3, 3, 3]))\n",
    "# Expected Output: 3\n",
    "\n",
    "\n",
    "print(find_most_frequent([4, 4, 5, 5, 6]))\n",
    "# Expected Output: 4 or 5\n",
    "\n",
    "\n",
    "print(find_most_frequent([7]))\n",
    "# Expected Output: 7"
   ]
  },
  {
   "cell_type": "markdown",
   "id": "4302c85c-b63a-485f-ac51-323beea0119d",
   "metadata": {},
   "source": [
    "**Question 10: Detect Faulty Sensors in a Factory Line**\n",
    "\n",
    "**Problem:**\n",
    "    \n",
    "In a factory, several sensors are installed to monitor temperature and pressure along a production line. Each sensor sends readings periodically, and the data from the sensors is collected in a list of tuples, where each tuple contains the sensor ID and a boolean status (True if the sensor is functioning, False if it is faulty).\n",
    "\n",
    "Write a function that performs linear search to find and return the IDs of all faulty sensors in the list. If no sensors are faulty, return an empty list.\n",
    "\n"
   ]
  },
  {
   "cell_type": "code",
   "execution_count": null,
   "id": "c0fdc3d2-d175-4957-82db-f9974eb5b99f",
   "metadata": {},
   "outputs": [],
   "source": [
    "sensors = [(101, True), (102, False), (103, True), (104, False)]\n",
    "print(find_faulty_sensors(sensors))\n",
    "# Expected Output: [102, 104]\n",
    "\n",
    "\n",
    "sensors = [(201, True), (202, True), (203, True)]\n",
    "print(find_faulty_sensors(sensors))\n",
    "# Expected Output: []\n",
    "\n",
    "\n",
    "sensors = [(301, False), (302, False)]\n",
    "print(find_faulty_sensors(sensors))\n",
    "# Expected Output: [301, 302]\n"
   ]
  },
  {
   "cell_type": "code",
   "execution_count": 157,
   "id": "c40cddf1-9841-4068-9a87-e18564d07a0e",
   "metadata": {},
   "outputs": [
    {
     "name": "stdout",
     "output_type": "stream",
     "text": [
      "[102, 104]\n",
      "[]\n",
      "[301, 302]\n"
     ]
    }
   ],
   "source": [
    "def find_faulty_sensors(list):\n",
    "    return [id for id,status in list if status==False]\n",
    "\n",
    "sensors = [(101, True), (102, False), (103, True), (104, False)]\n",
    "print(find_faulty_sensors(sensors))\n",
    "# Expected Output: [102, 104]\n",
    "\n",
    "\n",
    "sensors = [(201, True), (202, True), (203, True)]\n",
    "print(find_faulty_sensors(sensors))\n",
    "# Expected Output: []\n",
    "\n",
    "\n",
    "sensors = [(301, False), (302, False)]\n",
    "print(find_faulty_sensors(sensors))\n",
    "# Expected Output: [301, 302]"
   ]
  },
  {
   "cell_type": "code",
   "execution_count": null,
   "id": "c5ccf5b8-2d2c-44b6-ba5f-e59f1bb9d963",
   "metadata": {},
   "outputs": [],
   "source": []
  }
 ],
 "metadata": {
  "kernelspec": {
   "display_name": "Python 3 (ipykernel)",
   "language": "python",
   "name": "python3"
  },
  "language_info": {
   "codemirror_mode": {
    "name": "ipython",
    "version": 3
   },
   "file_extension": ".py",
   "mimetype": "text/x-python",
   "name": "python",
   "nbconvert_exporter": "python",
   "pygments_lexer": "ipython3",
   "version": "3.11.7"
  }
 },
 "nbformat": 4,
 "nbformat_minor": 5
}
