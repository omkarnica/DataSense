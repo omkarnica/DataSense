{
 "cells": [
  {
   "cell_type": "markdown",
   "id": "92263447-ea30-40bd-bed4-52de48d90f00",
   "metadata": {},
   "source": [
    "# Big O for Lists"
   ]
  },
  {
   "cell_type": "markdown",
   "id": "1183aa4b-941e-4bc7-a7ed-dab2e722eb0a",
   "metadata": {},
   "source": [
    "# Introduction to Big O Notation\n",
    "Big O notation is a way to express the efficiency of an algorithm. It describes how the runtime of an algorithm increases with the size of the input. When analyzing Python lists, understanding the time complexity of operations helps optimize the performance of your code.\n",
    "\n",
    "**Big O Notation Basics**\n",
    "\n",
    "**1. O(1):** Constant time – the operation’s runtime does not depend on the size of the list.\n",
    "\n",
    "**2. O(n):** Linear time – the runtime grows linearly with the size of the list.\n",
    "\n",
    "**3. O(log n):** Logarithmic time – the runtime grows logarithmically as the input size increases.\n",
    "\n",
    "**4. O(n^2):** Quadratic time – the runtime grows quadratically with the size of the input.\n"
   ]
  },
  {
   "cell_type": "markdown",
   "id": "1d306a78-2114-4152-bf32-7e819a44e94d",
   "metadata": {},
   "source": [
    "# List Operations and Their Complexities"
   ]
  },
  {
   "cell_type": "markdown",
   "id": "1848b4ad-aa5d-4331-82ef-9ff3a22d8f86",
   "metadata": {},
   "source": [
    "# 1. Indexing & Access\n",
    "\n",
    "**Description:** Accessing an element from a list by its index is one of the most common operations. Python lists are implemented as dynamic arrays, which means they store elements contiguously in memory, making it quick to access any element.\n",
    "\n",
    "**Time Complexity:** O(1) (Constant time).\n",
    "\n",
    "**Explanation:** When you access an element using my_list[index], Python performs a direct memory lookup. Since all elements are stored sequentially, accessing any element, regardless of its position, takes the same amount of time. Hence, it’s a constant time operation.\n",
    "\n",
    "**Example:**"
   ]
  },
  {
   "cell_type": "code",
   "execution_count": 10,
   "id": "d7bb7838-6393-41b6-815e-b4bc5e1b766b",
   "metadata": {},
   "outputs": [
    {
     "name": "stdout",
     "output_type": "stream",
     "text": [
      "10\n",
      "50\n"
     ]
    }
   ],
   "source": [
    "# Accessing elements by index\n",
    "my_list = [10, 20, 30, 40, 50]\n",
    "print(my_list[0])  # Output: 10\n",
    "print(my_list[4])  # Output: 50\n"
   ]
  },
  {
   "cell_type": "markdown",
   "id": "7f4be30a-09e1-426c-a742-af8d81d4b7e3",
   "metadata": {},
   "source": [
    "In both cases, accessing the element takes the same amount of time.\n",
    "\n",
    "**Real-world Analogy:** Think of a bookshelf where every book is numbered from 0 to n-1. If you know the number of the book you want, you can immediately pick it without searching.\n",
    "\n"
   ]
  },
  {
   "cell_type": "markdown",
   "id": "865673a7-05cd-41b9-b292-88edeff48060",
   "metadata": {},
   "source": [
    "# 2. Appending Elements\n",
    "\n",
    "**Description:** Adding an element to the end of the list using append() is a common operation. Python's list uses a dynamic array to handle this efficiently.\n",
    "\n",
    "**Time Complexity:** O(1) .\n",
    "\n",
    "**Explanation:** When you append() an element, Python adds the item at the end of the list without shifting any elements.\n",
    "\n",
    "**Example:**"
   ]
  },
  {
   "cell_type": "code",
   "execution_count": 15,
   "id": "48e9bfc3-0308-47d7-aa43-5ae7c6c66494",
   "metadata": {},
   "outputs": [
    {
     "name": "stdout",
     "output_type": "stream",
     "text": [
      "[1, 2, 3, 4]\n"
     ]
    }
   ],
   "source": [
    "# Appending elements to a list\n",
    "my_list = [1, 2, 3]\n",
    "my_list.append(4)  # [1, 2, 3, 4]\n",
    "print(my_list)\n"
   ]
  },
  {
   "cell_type": "markdown",
   "id": "f40c1447-e921-410c-ab71-3688d9d0786e",
   "metadata": {},
   "source": [
    "**Real-world Analogy:** Think of a file folder where you keep adding new sheets of paper to the back. You don’t need to rearrange any of the previous sheets to add a new one.\n",
    "\n"
   ]
  },
  {
   "cell_type": "markdown",
   "id": "30190a1d-46d6-46e6-80e0-fa5045a88708",
   "metadata": {},
   "source": [
    "# 3. Inserting Elements\n",
    "\n",
    "**Description:** Inserting an element into a list at a specified index using insert() requires shifting elements.\n",
    "\n",
    "**Time Complexity:** O(n) (Linear time).\n",
    "\n",
    "**Explanation:** When you insert an element into the middle or at the start of a list, all the elements to the right of the insertion point have to be shifted to make room. This shifting operation requires traversing the list, making the time complexity O(n), where n is the number of elements in the list.\n",
    "\n",
    "**Example:**"
   ]
  },
  {
   "cell_type": "code",
   "execution_count": 19,
   "id": "b99acfa2-65be-427d-b0aa-7cd8ac293f0c",
   "metadata": {},
   "outputs": [
    {
     "name": "stdout",
     "output_type": "stream",
     "text": [
      "[10, 20, 25, 30, 40]\n"
     ]
    }
   ],
   "source": [
    "# Inserting an element at a specific index\n",
    "my_list = [10, 20, 30, 40]\n",
    "my_list.insert(2, 25)  # [10, 20, 25, 30, 40]\n",
    "print(my_list)\n"
   ]
  },
  {
   "cell_type": "markdown",
   "id": "c0036818-a0b3-4748-ab05-4988e38c5257",
   "metadata": {},
   "source": [
    "In this example, inserting 25 at index 2 requires shifting 30 and 40 one position to the right.\n",
    "\n",
    "**Real-world Analogy:** Imagine inserting a new book in the middle of a packed bookshelf. You need to slide all the books to the right to create space.\n",
    "\n"
   ]
  },
  {
   "cell_type": "markdown",
   "id": "0d7b204c-b7ea-4664-b98e-fc537288ef9b",
   "metadata": {},
   "source": [
    "# 4. Deleting Elements\n",
    "\n",
    "**Description:** Removing an element from a specific index using pop(index) or using del.\n",
    "\n",
    "**Time Complexity:**\n",
    "\n",
    "1. O(n) – Linear time when deleting from the start or middle of the list.\n",
    "2. O(1) – Constant time when deleting the last element.\n",
    "3. Explanation: When you remove an element from a position in the middle or start, all subsequent elements must be shifted left to fill the gap. If you pop() the last element, no shifting is needed, so it is O(1).\n",
    "\n",
    "**Example:**"
   ]
  },
  {
   "cell_type": "code",
   "execution_count": 26,
   "id": "854567f8-0a0c-4dcf-ba38-c7f1f1f9ece4",
   "metadata": {},
   "outputs": [
    {
     "name": "stdout",
     "output_type": "stream",
     "text": [
      "[5, 10, 20, 25]\n"
     ]
    }
   ],
   "source": [
    "# Deleting an element from a specific index\n",
    "my_list = [5, 10, 15, 20, 25]\n",
    "my_list.pop(2)  # Removes element at index 2: [5, 10, 20, 25]\n",
    "print(my_list)\n"
   ]
  },
  {
   "cell_type": "markdown",
   "id": "db343a1f-3f46-4226-9e03-876bd266f28a",
   "metadata": {},
   "source": [
    "Deleting the element 15 at index 2 requires shifting 20 and 25 to the left.\n",
    "\n",
    "**Real-world Analogy:** Removing a book from a packed bookshelf. If it's the last book, you can simply take it out. But if it’s in the middle, you need to shift the books to the left to fill the space.\n",
    "\n",
    "# 5. Searching Elements\n",
    "    \n",
    "**Description:** Finding an element in the list or checking its presence using in.\n",
    "\n",
    "**Time Complexity:** O(n) – Linear time.\n",
    "\n",
    "**Explanation:** To search for an element, Python needs to check each item in the list until it finds the match or reaches the end. In the worst case, the element might not be in the list, requiring a full traversal.\n",
    "\n",
    "**Example:**"
   ]
  },
  {
   "cell_type": "code",
   "execution_count": 29,
   "id": "2a46b984-96f8-4270-a9e6-d534a3a76cdd",
   "metadata": {},
   "outputs": [
    {
     "name": "stdout",
     "output_type": "stream",
     "text": [
      "True\n"
     ]
    }
   ],
   "source": [
    "# Searching for an element in a list\n",
    "my_list = [1, 2, 3, 4, 5]\n",
    "print(3 in my_list)  # Output: True\n"
   ]
  },
  {
   "cell_type": "markdown",
   "id": "c142ea02-edfb-4d28-8154-987e4fa35d0e",
   "metadata": {},
   "source": [
    "Here, Python will check each element sequentially to find 3.\n",
    "\n",
    "**Real-world Analogy:** Searching for a specific book in a pile of unsorted books. You have to look through each book until you find what you’re looking for.\n",
    "\n",
    "# 6. Extending a List\n",
    "                                                                                                                                                        \n",
    "**Description:** Adding multiple elements from another list to the end of the current list using extend().\n",
    "\n",
    "**Time Complexity:** O(k), where k is the number of elements being added.\n",
    "\n",
    "**Explanation:** Python lists have a dynamic size, so adding multiple elements requires adding each one individually. The operation runs in O(k), where k is the number of new elements.\n",
    "\n",
    "**Example:**"
   ]
  },
  {
   "cell_type": "code",
   "execution_count": 32,
   "id": "4a106968-773d-4ee6-a09f-896d553d9d3a",
   "metadata": {},
   "outputs": [
    {
     "name": "stdout",
     "output_type": "stream",
     "text": [
      "[1, 2, 3, 4, 5, 6]\n"
     ]
    }
   ],
   "source": [
    "# Extending a list with another list\n",
    "list1 = [1, 2, 3]\n",
    "list2 = [4, 5, 6]\n",
    "list1.extend(list2)  # [1, 2, 3, 4, 5, 6]\n",
    "print(list1)\n"
   ]
  },
  {
   "cell_type": "markdown",
   "id": "42a5acc2-c16f-48c6-a2a9-9c36f9def68a",
   "metadata": {},
   "source": [
    "**Real-world Analogy:** You are adding multiple new sheets of paper to the back of a folder, one at a time.\n",
    "\n",
    "# 7. Slicing a List\n",
    "    \n",
    "**Description:** Creating a sublist from a list using slice notation ([start:end]).\n",
    "\n",
    "**Time Complexity:** O(k), where k is the size of the slice.\n",
    "\n",
    "**Explanation:** Slicing involves copying a portion of the list. The time complexity depends on the size of the slice you are copying, as each element in the slice needs to be accessed.\n",
    "\n",
    "**Example:**"
   ]
  },
  {
   "cell_type": "code",
   "execution_count": 35,
   "id": "3d202bf2-d62b-4d19-b2dc-ab09b4f91996",
   "metadata": {},
   "outputs": [
    {
     "name": "stdout",
     "output_type": "stream",
     "text": [
      "[20, 30, 40]\n"
     ]
    }
   ],
   "source": [
    "# Slicing a list\n",
    "my_list = [10, 20, 30, 40, 50, 60]\n",
    "sublist = my_list[1:4]  # [20, 30, 40]\n",
    "print(sublist)\n"
   ]
  },
  {
   "cell_type": "markdown",
   "id": "66f9ba45-f454-4787-b222-577f48260d12",
   "metadata": {},
   "source": [
    "In this example, slicing [1:4] creates a new list [20, 30, 40].\n",
    "\n",
    "**Real-world Analogy:** Making a photocopy of a specific range of pages from a book. The time it takes depends on how many pages you are copying.\n",
    "\n",
    "# 8. Concatenation of Lists\n",
    "\n",
    "**Description:** Combining two lists into a new one using +.\n",
    "\n",
    "**Time Complexity:** O(n + m), where n and m are the lengths of the two lists.\n",
    "\n",
    "**Explanation:** Concatenation involves copying all elements from both lists into a new list. This is why the time complexity depends on the size of both input lists.\n",
    "\n",
    "**Example:**"
   ]
  },
  {
   "cell_type": "code",
   "execution_count": 38,
   "id": "9ba41979-5049-4708-888d-3743bbc8b135",
   "metadata": {},
   "outputs": [
    {
     "name": "stdout",
     "output_type": "stream",
     "text": [
      "[1, 2, 3, 4, 5, 6]\n"
     ]
    }
   ],
   "source": [
    "# Concatenating two lists\n",
    "list1 = [1, 2, 3]\n",
    "list2 = [4, 5, 6]\n",
    "result = list1 + list2  # [1, 2, 3, 4, 5, 6]\n",
    "print(result)\n"
   ]
  },
  {
   "cell_type": "markdown",
   "id": "7acc0dc2-95c8-48e8-b730-7b41c8a92514",
   "metadata": {},
   "source": [
    "Real-world Analogy: Imagine merging two rows of books into a single shelf. You need to add each book from both rows into the final shelf.\n",
    "\n",
    "# 9. Iterating Over a List\n",
    "\n",
    "**Description:** Looping through each element of the list.\n",
    "\n",
    "**Time Complexity:** O(n) – Linear time.\n",
    "\n",
    "**Explanation:** To iterate over a list, Python goes through each element one by one. Hence, the time taken is proportional to the number of elements.\n",
    "\n",
    "**Example:**"
   ]
  },
  {
   "cell_type": "code",
   "execution_count": 41,
   "id": "2988bf5f-ddfc-4e12-ae8e-921194fe1b3e",
   "metadata": {},
   "outputs": [
    {
     "name": "stdout",
     "output_type": "stream",
     "text": [
      "10\n",
      "20\n",
      "30\n"
     ]
    }
   ],
   "source": [
    "# Iterating over a list\n",
    "my_list = [10, 20, 30]\n",
    "for item in my_list:\n",
    "    print(item)\n"
   ]
  },
  {
   "cell_type": "markdown",
   "id": "87cc39ce-ceca-47ae-9af7-71aa503cfecf",
   "metadata": {},
   "source": [
    "**Real-world Analogy:** Reading each book in a bookshelf one at a time. The time it takes depends on how many books there are."
   ]
  },
  {
   "cell_type": "markdown",
   "id": "ead7b913-760d-4384-8eb8-f0fe27a7685e",
   "metadata": {},
   "source": [
    "# Practice Problems- Assignment 2\n",
    "\n",
    "**Q1.** Create a list with 30 integers. Access the element at index 15 and print it. What is the time complexity?\n",
    "\n",
    "**Q2.** Append an element to a list of size 20 and then insert an element at index 10. Compare their time complexities.\n",
    "\n",
    "**Q3.** Create a list of the first 20 natural numbers. Remove the element at index 10 and observe the change. What is the time complexity of this operation?\n",
    "\n"
   ]
  },
  {
   "cell_type": "markdown",
   "id": "ac7c3e96-83f6-4945-8306-25f454b83964",
   "metadata": {},
   "source": [
    "# Q1\n",
    "\n",
    "### The Time Complexity for below code is o(n)"
   ]
  },
  {
   "cell_type": "code",
   "execution_count": 25,
   "id": "696d9454-7c32-4881-b186-f51cf1b4298f",
   "metadata": {},
   "outputs": [
    {
     "name": "stdout",
     "output_type": "stream",
     "text": [
      "the element at index 15 is \"16\"\n"
     ]
    }
   ],
   "source": [
    "#create a list with 30 intergers\n",
    "list1=[i+1 for i in range(30)]\n",
    "    \n",
    "print(f'the element at index 15 is \"{list1[15]}\"')\n"
   ]
  },
  {
   "cell_type": "markdown",
   "id": "f9562d2c-90b3-45de-829d-26eb3fa08126",
   "metadata": {},
   "source": [
    "# Q2\n",
    "\n",
    "### Time Complexity of appending at the end of the list is o(1)\n",
    "### whereas Time Complexity of appending at the 10th index is o(n)"
   ]
  },
  {
   "cell_type": "code",
   "execution_count": 39,
   "id": "3e3f5ff8-69eb-4023-8e16-3f9dc6c60465",
   "metadata": {},
   "outputs": [
    {
     "name": "stdout",
     "output_type": "stream",
     "text": [
      "[0, 2, 4, 6, 8, 10, 12, 14, 16, 18, 20, 22, 24, 26, 28, 30, 32, 34, 36, 38]\n",
      "[0, 2, 4, 6, 8, 10, 12, 14, 16, 18, 20, 22, 24, 26, 28, 30, 32, 34, 36, 38, 40]\n",
      "[0, 2, 4, 6, 8, 10, 12, 14, 16, 18, -10, 20, 22, 24, 26, 28, 30, 32, 34, 36, 38, 40]\n"
     ]
    }
   ],
   "source": [
    "list2=[2*i for i in range(20)]\n",
    "print(list2)\n",
    "\n",
    "list2.append(40)\n",
    "print(list2)\n",
    "\n",
    "list2.insert(10,-10)\n",
    "print(list2)"
   ]
  },
  {
   "cell_type": "markdown",
   "id": "ace73c56-a3d6-429c-a8a9-892fc14941e0",
   "metadata": {},
   "source": [
    "# Q3\n",
    "\n",
    "### The Time Complexity for below code is o(n)"
   ]
  },
  {
   "cell_type": "code",
   "execution_count": 51,
   "id": "d0dcf2ef-b9e5-4368-aa9b-33d700e24ab2",
   "metadata": {},
   "outputs": [
    {
     "name": "stdout",
     "output_type": "stream",
     "text": [
      "[1, 2, 3, 4, 5, 6, 7, 8, 9, 10, 11, 12, 13, 14, 15, 16, 17, 18, 19, 20]\n",
      "[1, 2, 3, 4, 5, 6, 7, 8, 9, 10, 12, 13, 14, 15, 16, 17, 18, 19, 20]\n"
     ]
    }
   ],
   "source": [
    "list3=[n+1 for n in range(20)]\n",
    "print(list3)\n",
    "\n",
    "list3.pop(10)\n",
    "print(list3)\n"
   ]
  },
  {
   "cell_type": "markdown",
   "id": "606c06d4-c337-437e-becf-39a8ef708993",
   "metadata": {},
   "source": [
    "**Q4.** Given two lists: Concatenate them and print the result. What is the time complexity?\n",
    "\n",
    "# Q4\n",
    "\n",
    "### the time complexity of below code is o(m+n) , where m,n are length of list_a and list_b"
   ]
  },
  {
   "cell_type": "code",
   "execution_count": 56,
   "id": "feddfba1-c68a-4589-8f08-ac896c2f3e24",
   "metadata": {},
   "outputs": [
    {
     "name": "stdout",
     "output_type": "stream",
     "text": [
      "[1, 2, 3, 4, 5, 6, 7, 8, 9, 10]\n"
     ]
    }
   ],
   "source": [
    "list_a = [1, 2, 3, 4, 5]\n",
    "list_b = [6, 7, 8, 9, 10]\n",
    "list4= list_a+list_b\n",
    "print(list4)"
   ]
  },
  {
   "cell_type": "markdown",
   "id": "3fa31dc0-8bb4-4b1d-b0e4-84dfa6fb629f",
   "metadata": {},
   "source": [
    "**Q5**. Create a list of the first 50 odd numbers and slice the list to get the first 10 elements. Explain the time complexity involved in slicing.\n",
    "\n",
    "**Q6** Write a function to search for an element in a list and return its index if found. What is the time complexity of your search function?"
   ]
  },
  {
   "cell_type": "markdown",
   "id": "c3b7936a-75d1-4cde-84f4-bbfc1b9bc629",
   "metadata": {},
   "source": [
    "# Q5\n",
    "\n",
    "### the time complexity involved in slicing is o(k) where k is the size of the slice, because we access k elements one by one "
   ]
  },
  {
   "cell_type": "code",
   "execution_count": 59,
   "id": "193fabdd-8ac9-4786-98b3-703f2834f687",
   "metadata": {},
   "outputs": [
    {
     "name": "stdout",
     "output_type": "stream",
     "text": [
      "[1, 3, 5, 7, 9, 11, 13, 15, 17, 19]\n"
     ]
    }
   ],
   "source": [
    "list5=[2*n+1 for n in range(50)]\n",
    "print(list5[:10])"
   ]
  },
  {
   "cell_type": "markdown",
   "id": "701caec5-27fc-4b4b-96f6-bbcd611f282b",
   "metadata": {},
   "source": [
    "# Q6\n",
    "\n",
    "### the time complexity of below search function is o(n)"
   ]
  },
  {
   "cell_type": "code",
   "execution_count": 70,
   "id": "4de24c20-99ae-4825-8d1b-ff7063ab4868",
   "metadata": {},
   "outputs": [],
   "source": [
    "def search_element(lst,elt):\n",
    "    for i in range(len(lst)):\n",
    "        if arr[i]==elt:\n",
    "            return i\n",
    "    return None\n"
   ]
  },
  {
   "cell_type": "code",
   "execution_count": 52,
   "id": "4fc3460d-9c51-4255-b714-3f33b31c9b3f",
   "metadata": {},
   "outputs": [],
   "source": [
    "# Template for the search function\n",
    "def search_element(lst, target):\n",
    "    for index, value in enumerate(lst):\n",
    "        if value == target:\n",
    "            return index\n",
    "    return -1\n"
   ]
  },
  {
   "cell_type": "markdown",
   "id": "a4916f66-14e4-4947-bca3-088ed196bfa5",
   "metadata": {},
   "source": [
    "**Q7** Create two lists:\n",
    "\n",
    "1. One with the first 10 positive integers.\n",
    "2. Another with the next 10 integers.\n",
    "   \n",
    "Extend the first list with the second. What is the time complexity of the extend() operation?"
   ]
  },
  {
   "cell_type": "markdown",
   "id": "e3be121b-f994-4832-a2f2-0967e86722aa",
   "metadata": {},
   "source": [
    "# Q7\n",
    "\n",
    "### The time complexity is o(m), where m is the lenght of list8"
   ]
  },
  {
   "cell_type": "code",
   "execution_count": 77,
   "id": "c18d7aaa-6958-4f31-a189-8189c83da5f9",
   "metadata": {},
   "outputs": [
    {
     "name": "stdout",
     "output_type": "stream",
     "text": [
      "[1, 2, 3, 4, 5, 6, 7, 8, 9, 10]\n",
      "[11, 12, 13, 14, 15, 16, 17, 18, 19, 20]\n"
     ]
    }
   ],
   "source": [
    "list7=[i for i in range(1,11) ]\n",
    "list8=[j for j in range(11,21)]\n",
    "print(list7)\n",
    "print(list8)\n",
    "list7.extend(list8)\n",
    "print(list7)"
   ]
  },
  {
   "cell_type": "code",
   "execution_count": null,
   "id": "b6067ffd-3a20-4470-91aa-b4515aa6a86c",
   "metadata": {},
   "outputs": [],
   "source": []
  }
 ],
 "metadata": {
  "kernelspec": {
   "display_name": "Python 3 (ipykernel)",
   "language": "python",
   "name": "python3"
  },
  "language_info": {
   "codemirror_mode": {
    "name": "ipython",
    "version": 3
   },
   "file_extension": ".py",
   "mimetype": "text/x-python",
   "name": "python",
   "nbconvert_exporter": "python",
   "pygments_lexer": "ipython3",
   "version": "3.11.7"
  }
 },
 "nbformat": 4,
 "nbformat_minor": 5
}
