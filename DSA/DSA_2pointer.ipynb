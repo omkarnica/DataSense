{
 "cells": [
  {
   "cell_type": "markdown",
   "id": "97dfc7a7-962a-4942-8b51-3d3c34a2ab78",
   "metadata": {},
   "source": [
    "# Data Sense Presents: The DSA Lab"
   ]
  },
  {
   "cell_type": "markdown",
   "id": "12376a64-7205-4a2c-b202-4444f7c13268",
   "metadata": {},
   "source": [
    "# Algorithm 2: 2 Pointer Technnique"
   ]
  },
  {
   "cell_type": "markdown",
   "id": "f9eb0398-07d0-41dd-bf9a-d70a3d14e369",
   "metadata": {},
   "source": [
    "**Let’s say we have a sorted list of numbers and need to find a pair that sums up to a specific target value.**\n",
    "\n",
    "With a linear search approach, we would examine each element, then pair it with every subsequent element to check if they sum to the target.\n",
    "\n",
    "**Example: Finding a Pair with Linear Search**\n",
    "\n",
    "Suppose we have the list [1, 2, 3, 4, 6] and we want to find two numbers that add up to 8."
   ]
  },
  {
   "cell_type": "code",
   "execution_count": 5,
   "id": "771bf56a-7d37-472f-82cc-124616a4185b",
   "metadata": {},
   "outputs": [
    {
     "name": "stdout",
     "output_type": "stream",
     "text": [
      "(2, 6)\n"
     ]
    }
   ],
   "source": [
    "def find_pair_linear_search(arr, target):\n",
    "    # Iterate through each element in the list\n",
    "    for i in range(len(arr)):\n",
    "        # For each element, pair it with every subsequent element\n",
    "        for j in range(i + 1, len(arr)):\n",
    "            # Check if the sum of the pair equals the target\n",
    "            if arr[i] + arr[j] == target:\n",
    "                return (arr[i], arr[j])  # Return the pair if found\n",
    "    return None  # Return None if no such pair exists\n",
    "\n",
    "# Example usage\n",
    "arr = [1, 2, 3, 4, 6]\n",
    "target = 8\n",
    "result = find_pair_linear_search(arr, target)\n",
    "print(result)  # Output should be (2, 6)\n"
   ]
  },
  {
   "cell_type": "markdown",
   "id": "fb5e50f0-86b8-46de-9f12-b00105cfbded",
   "metadata": {},
   "source": [
    "**Problems with the Linear Search Approach**\n",
    "\n",
    "**1. Time Complexity:**\n",
    "\n",
    "The linear search approach has a time complexity of O(n^2). For each element in the list, we must check all subsequent elements to find pairs that meet the target sum. As the list grows, this leads to a dramatic increase in comparisons, making it inefficient for large datasets.\n",
    "\n",
    "**2.Redundant Comparisons:**\n",
    "\n",
    "Since we’re iterating over all subsequent pairs for each element, many comparisons are unnecessary, especially when the list is sorted. This means we’re not taking advantage of the list’s structure to optimize our search.\n",
    "\n",
    "**3.Practical Limitations:**\n",
    "\n",
    "For larger datasets, O(n^2) solutions become impractical, consuming more processing power and time. This method would require thousands of checks on a list with even just hundreds of elements."
   ]
  },
  {
   "cell_type": "markdown",
   "id": "579810c6-ea97-4233-a0af-278d68901078",
   "metadata": {},
   "source": [
    "# Introducing the 2-Pointer Technique\n",
    "\n",
    "To overcome these issues, the 2-pointer technique offers a more efficient solution by leveraging the sorted nature of the list. Here’s how it works and why it’s effective.\n",
    "\n",
    "**How the 2-Pointer Technique Works**\n",
    "\n",
    "**Setup:**\n",
    "\n",
    "Define two pointers: one starting at the beginning of the list (left) and another at the end (right).\n",
    "\n",
    "**Iterative Condition Check:**\n",
    "\n",
    "1. Check the sum of the elements at the left and right pointers.\n",
    "2. If the sum matches the target, we’ve found our pair.\n",
    "3. If the sum is less than the target, increase the left pointer (move right) to increase the sum.\n",
    "4. If the sum is greater than the target, decrease the right pointer (move left) to reduce the sum.\n",
    "\n",
    "**Stop Condition:**\n",
    "\n",
    "1. The process stops when the left pointer crosses the right pointer. If no pair is found by then, it indicates that there’s no such pair in the list.\n",
    "\n",
    "This approach leverages the sorted structure to effectively “zero in” on the target by adjusting pointers based on the comparison, reducing unnecessary comparisons."
   ]
  },
  {
   "cell_type": "markdown",
   "id": "03554057-37cd-416c-bacc-72ceeff22413",
   "metadata": {},
   "source": [
    "**Benefits of the 2-Pointer Technique**\n",
    "    \n",
    "**Time Complexity:**\n",
    "\n",
    "The 2-pointer approach has a time complexity of O(n), as we only need a single pass through the list, adjusting the pointers accordingly. This is a significant improvement over the O(n^2) complexity of the linear search approach.\n",
    "\n",
    "**Efficiency:**\n",
    "\n",
    "By adjusting pointers strategically, we minimize redundant checks, taking advantage of the list’s sorted order. This saves processing time and reduces overall complexity.\n",
    "\n",
    "**Memory Efficiency:**\n",
    "\n",
    "This technique typically requires only constant extra space (O(1)) for the pointers, as opposed to using additional data structures or nested loops.\n"
   ]
  },
  {
   "cell_type": "markdown",
   "id": "101e9432-c871-4860-a92c-a5295570fce4",
   "metadata": {},
   "source": [
    "# 2-Pointer Technique: Step-by-Step Example\n",
    "\n",
    "Let’s walk through an example with the list [1, 2, 3, 4, 6] and target sum of 8.\n",
    "\n",
    "**Step 1: Initialize Pointers**\n",
    "left pointer starts at index 0 (value 1).\n",
    "right pointer starts at index 4 (value 6).\n",
    "\n",
    "**Step 2: Calculate the Sum and Adjust Pointers**\n",
    "\n",
    "First Check:\n",
    "\n",
    "Sum = arr[left] + arr[right] = 1 + 6 = 7\n",
    "Since 7 is less than 8, move the left pointer to the right to increase the sum.\n",
    "Now, left is at index 1 (value 2).\n",
    "\n",
    "Second Check:\n",
    "\n",
    "Sum = arr[left] + arr[right] = 2 + 6 = 8\n",
    "We’ve found the pair that sums up to the target: (2, 6).\n",
    "\n",
    "This completes the search efficiently without needing nested comparisons, and the solution is found in just two checks."
   ]
  },
  {
   "cell_type": "code",
   "execution_count": 12,
   "id": "f85c45f9-789a-4e9b-9f99-33290db768e8",
   "metadata": {},
   "outputs": [],
   "source": [
    "def two_sum_sorted(arr, target):\n",
    "    left, right = 0, len(arr) - 1  # Initialize pointers\n",
    "    while left < right:\n",
    "        current_sum = arr[left] + arr[right]  # Calculate the sum of elements at pointers\n",
    "        if current_sum == target:\n",
    "            return (arr[left], arr[right])  # Pair found\n",
    "        elif current_sum < target:\n",
    "            left += 1  # Move left pointer to the right\n",
    "        else:\n",
    "            right -= 1  # Move right pointer to the left\n",
    "    return None  # Return None if no pair found\n"
   ]
  },
  {
   "cell_type": "code",
   "execution_count": 24,
   "id": "8e8f0dc3-728a-428d-94fe-73093c4ca5f7",
   "metadata": {},
   "outputs": [],
   "source": [
    "def two_pointers(nums,target):\n",
    "    #Initialize two pointers\n",
    "    left,right=0,len(nums)-1 #Define 2 Pointer\n",
    "    res=[] #Define a Blanl List\n",
    "    while left<right: #Condition to meet for 2 pointer\n",
    "        current_sum=nums[left]+nums[right]\n",
    "\n",
    "        if current_sum==target: #Return the numbers to list, move left and right both pointers\n",
    "            res.append([nums[left],nums[right]])\n",
    "            left+=1\n",
    "            right-=1\n",
    "            \n",
    "            while left<right and nums[left]==nums[left-1]: #In case of duplicates\n",
    "                left+=1\n",
    "            while left<right and nums[right]==nums[right+1]:\n",
    "                right-=1\n",
    "                \n",
    "        elif current_sum<target:\n",
    "            left+=1\n",
    "        else:\n",
    "            right-=1\n",
    "    return res\n",
    "            \n",
    "    "
   ]
  },
  {
   "cell_type": "markdown",
   "id": "ddc32ee5-f5eb-43ec-9d4f-41e0cd17b63e",
   "metadata": {},
   "source": [
    "# Assignment 1"
   ]
  },
  {
   "cell_type": "markdown",
   "id": "65862b14-84f3-4222-beb3-a818800383b4",
   "metadata": {},
   "source": [
    "**Question 1: Find All Unique Pairs with Target Sum**\n",
    "    \n",
    "Given a sorted list of integers, write a function to find all unique pairs of numbers that add up to a given target sum. Each pair should be unique, meaning the same pair should not appear more than once in different orders.\n",
    "\n"
   ]
  },
  {
   "cell_type": "code",
   "execution_count": null,
   "id": "f8988023-8d1b-47fe-87f4-f34079bf27a7",
   "metadata": {},
   "outputs": [],
   "source": [
    "Input: arr = [1, 2, 2, 3, 4, 5, 6], target = 7\n",
    "Output: [(1, 6), (2, 5), (3, 4)]"
   ]
  },
  {
   "cell_type": "code",
   "execution_count": 1,
   "id": "1e612655-a20d-4228-abe9-a5cd7d9ae1bf",
   "metadata": {},
   "outputs": [
    {
     "name": "stdout",
     "output_type": "stream",
     "text": [
      "[[1, 6], [2, 5], [3, 4]]\n"
     ]
    }
   ],
   "source": [
    "#SOLUTION 1\n",
    "def two_pointers(nums,target):\n",
    "    #Initialize two pointers\n",
    "    left,right=0,len(nums)-1 #Define 2 Pointer\n",
    "    res=[] #Define a Blanl List\n",
    "    while left<right: #Condition to meet for 2 pointer\n",
    "        current_sum=nums[left]+nums[right]\n",
    "\n",
    "        if current_sum==target: #Return the numbers to list, move left and right both pointers\n",
    "            res.append([nums[left],nums[right]])\n",
    "            left+=1\n",
    "            right-=1\n",
    "            \n",
    "            while left<right and nums[left]==nums[left-1]: #In case of duplicates\n",
    "                left+=1\n",
    "            while left<right and nums[right]==nums[right+1]:\n",
    "                right-=1\n",
    "                \n",
    "        elif current_sum<target:\n",
    "            left+=1\n",
    "        else:\n",
    "            right-=1\n",
    "    return res\n",
    "\n",
    "\n",
    "arr = [1, 2, 2, 3, 4, 5, 6]\n",
    "target = 7\n",
    "print(two_pointers(arr,target))"
   ]
  },
  {
   "cell_type": "markdown",
   "id": "a38e87d7-9ae9-406d-ada3-d1172cfb3d11",
   "metadata": {},
   "source": [
    "**Question 2: Remove Duplicates from Sorted Array**\n",
    "\n",
    "Given a sorted list of integers, remove the duplicates in-place such that each element appears only once and returns the new length. Modify the list directly without using extra space."
   ]
  },
  {
   "cell_type": "code",
   "execution_count": null,
   "id": "f88809fc-dc71-43bc-9674-30f642efd1d6",
   "metadata": {},
   "outputs": [],
   "source": [
    "Input: arr = [1, 1, 2, 2, 3, 4, 4, 5]\n",
    "Output: [1, 2, 3, 4, 5] (length: 5)\n"
   ]
  },
  {
   "cell_type": "code",
   "execution_count": 16,
   "id": "c1bbbb33-da0e-4db3-bd9f-5738697ed505",
   "metadata": {},
   "outputs": [
    {
     "name": "stdout",
     "output_type": "stream",
     "text": [
      "new list is -  [1, 2, 3, 4, 5] of length 5\n"
     ]
    }
   ],
   "source": [
    "def remove_duplicates(nums):\n",
    "    left=0\n",
    "    right=len(nums)-1\n",
    "    while left<right:\n",
    "        if nums[left]==nums[left+1]:\n",
    "            nums.pop(left+1)\n",
    "            right-=1\n",
    "        left+=1\n",
    "        \n",
    "        if nums[right]==nums[right-1]:\n",
    "            nums.pop(right)\n",
    "            right-=1\n",
    "        right-=1\n",
    "        \n",
    "    return ([nums,len(nums)])\n",
    "\n",
    "nums = [1, 1, 2, 2, 3, 4, 4, 5]\n",
    "result=remove_duplicates(nums)\n",
    "print (\"new list is - \",result[0],\"of length\",result[1])"
   ]
  },
  {
   "cell_type": "code",
   "execution_count": 18,
   "id": "582dbcf6-4bed-4090-8a51-152c8cdc4a1e",
   "metadata": {},
   "outputs": [
    {
     "name": "stdout",
     "output_type": "stream",
     "text": [
      "new list is -  [1, 2, 3, 4, 5] of length 5\n"
     ]
    }
   ],
   "source": [
    "#Other way told by Satvik in Discussion Class\n",
    "\n",
    "def remove_duplicates(arr):\n",
    "    i=0\n",
    "    for j in range(1,len(arr)):\n",
    "        if arr[i]!=arr[j]:\n",
    "            i+=1\n",
    "            arr[i]=arr[j]\n",
    "\n",
    "    return arr[:i+1]\n",
    "\n",
    "nums = [1, 1, 2, 2, 3, 4, 4, 5]\n",
    "result=remove_duplicates(nums)\n",
    "print (\"new list is - \",result ,\"of length\",len(result))"
   ]
  },
  {
   "cell_type": "markdown",
   "id": "e2bf02b8-60b8-42c2-b39c-f93188134883",
   "metadata": {},
   "source": [
    "**Question 3:  Triplets with Target Sum**\n",
    "\n",
    "Given a sorted list of integers, write a function to find all unique triplets in the list that add up to a given target sum. Each triplet should be unique.\n",
    "\n"
   ]
  },
  {
   "cell_type": "code",
   "execution_count": null,
   "id": "5e327ddf-4301-4f04-afc3-ff2318a36c86",
   "metadata": {},
   "outputs": [],
   "source": [
    "Input: arr = [-1, 0, 1, 2, -1, -4], target = 0 \n",
    "Output: [(-1, -1, 2), (-1, 0, 1)]\n"
   ]
  },
  {
   "cell_type": "code",
   "execution_count": 33,
   "id": "c0af0765-1d16-4f56-9db6-4473b9a27f17",
   "metadata": {},
   "outputs": [
    {
     "name": "stdout",
     "output_type": "stream",
     "text": [
      "[[-1, -1, 2], [-1, 0, 1], [-1, 0, 1]]\n"
     ]
    }
   ],
   "source": [
    "#approach discuused in class , only issue is this approch doesnt work without sorting the array\n",
    "#for each pointer we have two pointers \n",
    "def find_triplets(arr,target):\n",
    "    arr.sort()\n",
    "    res=[]\n",
    "    for i in range(len(arr)):\n",
    "        k=len(arr)-1\n",
    "        j=i+1\n",
    "        while j<k:\n",
    "            if arr[j]+arr[k]==-arr[i]:\n",
    "                res.append([arr[i],arr[j],arr[k]])\n",
    "                j+=1\n",
    "                k-=1\n",
    "            elif arr[j]+arr[k]< -arr[i]:\n",
    "                j+=1\n",
    "            else:\n",
    "                k-=1\n",
    "                \n",
    "    return res \n",
    "\n",
    "arr = [-1, 0, 1, 2, -1, -4] \n",
    "target = 0 \n",
    "print( find_triplets(arr,target))\n",
    "\n",
    "#Output: [(-1, -1, 2), (-1, 0, 1)]\n",
    "        "
   ]
  },
  {
   "cell_type": "markdown",
   "id": "bbb9e12f-636f-478a-bfba-0d5d1f52e509",
   "metadata": {},
   "source": [
    "**Question 4: Sort Colors (Dutch National Flag Problem)**\n",
    "\n",
    "You are given an array arr containing integers 0, 1, and 2, representing colors (e.g., red, white, and blue). Write a function to sort the array in-place so that all 0s come first, followed by all 1s, then all 2s.\n",
    "\n"
   ]
  },
  {
   "cell_type": "code",
   "execution_count": null,
   "id": "4d3781ca-35ab-4378-a707-cb084594495b",
   "metadata": {},
   "outputs": [],
   "source": [
    "Input: arr = [2, 0, 2, 1, 1, 0]\n",
    "Output: [0, 0, 1, 1, 2, 2]\n"
   ]
  },
  {
   "cell_type": "code",
   "execution_count": 70,
   "id": "80e9760c-151d-4e99-b688-709054ea9108",
   "metadata": {},
   "outputs": [
    {
     "name": "stdout",
     "output_type": "stream",
     "text": [
      "[0, 0, 1, 1, 2, 2]\n"
     ]
    }
   ],
   "source": [
    "def sort_colors(arr):\n",
    "    for i in range (len(arr)):\n",
    "        for j in range(1,len(arr)-i):\n",
    "            if arr[j-1]>arr[j]: \n",
    "                arr[j-1],arr[j]=arr[j],arr[j-1]\n",
    "    return arr\n",
    "    \n",
    "arr = [2, 0, 2, 1, 1, 0]\n",
    "# Output: [0, 0, 1, 1, 2, 2]   \n",
    "print(sort_colors(arr))"
   ]
  },
  {
   "cell_type": "markdown",
   "id": "f5793785-ab59-4ac9-9e1b-b179673ca6d4",
   "metadata": {},
   "source": [
    "j=1 , arr[0]>arr[1]: 0,2,2,1,1,0\n",
    "j=2  0,2,2,1,1,0\n",
    "j=3   2>1: 0,2,1,2,1,0\n",
    "j=4   2>1: 0,2,1,1,2,0\n",
    "0,2,1,1,0,2\n"
   ]
  },
  {
   "cell_type": "markdown",
   "id": "d93ba2ad-9c68-4086-b36f-f09ce39ac1ef",
   "metadata": {},
   "source": [
    "**Question 5:  Minimum Size Subarray Sum**\n",
    "\n",
    "Given an array of positive integers and a target integer, find the minimal length of a contiguous subarray of which the sum is greater than or equal to the target. If there is no such subarray, return 0."
   ]
  },
  {
   "cell_type": "code",
   "execution_count": null,
   "id": "117896f7-c1a6-44bb-9605-1c7f404b1522",
   "metadata": {},
   "outputs": [],
   "source": [
    "Input: arr = [2, 3, 1, 2, 4, 3], target = 7\n",
    "Output: 2\n"
   ]
  },
  {
   "cell_type": "code",
   "execution_count": 61,
   "id": "bf94fbc7-c449-484e-8381-c920c0a3f910",
   "metadata": {},
   "outputs": [
    {
     "name": "stdout",
     "output_type": "stream",
     "text": [
      "[(4, 3)]\n"
     ]
    }
   ],
   "source": [
    "arr = [2, 3, 1, 2, 4, 3]\n",
    "target=7\n",
    "\n",
    "list=[]\n",
    "target_a=[]\n",
    "# Step 1 - get all the subarray of arr (subarray is continous subsets of arr)\n",
    "for i in range(len(arr)):\n",
    "    for j in range(i,len(arr)):\n",
    "        list.append(arr[i:j+1])\n",
    "\n",
    "#Step 2 - is to get all subarray which have sum greater than equal to target \n",
    "#Step 3 - make a dictionary to store lengths of all such subarrays\n",
    "\n",
    "freq={}\n",
    "for subarray in list:\n",
    "    if sum(subarray)>=7:\n",
    "        target_a.append(subarray)\n",
    "        freq[tuple(subarray)]=len(subarray)\n",
    "\n",
    "# for a in target_a:\n",
    "#     freq[a]=len(a)\n",
    "\n",
    "#Step 4 - get the minimum length and then find the subarray with that length\n",
    "min_length=min(freq.values())\n",
    "print([k for k,l in freq.items() if l==min_length])\n",
    "    "
   ]
  },
  {
   "cell_type": "code",
   "execution_count": null,
   "id": "3f8ebbf2-447a-41b4-9f55-b936d221f525",
   "metadata": {},
   "outputs": [],
   "source": []
  }
 ],
 "metadata": {
  "kernelspec": {
   "display_name": "Python 3 (ipykernel)",
   "language": "python",
   "name": "python3"
  },
  "language_info": {
   "codemirror_mode": {
    "name": "ipython",
    "version": 3
   },
   "file_extension": ".py",
   "mimetype": "text/x-python",
   "name": "python",
   "nbconvert_exporter": "python",
   "pygments_lexer": "ipython3",
   "version": "3.11.7"
  }
 },
 "nbformat": 4,
 "nbformat_minor": 5
}
