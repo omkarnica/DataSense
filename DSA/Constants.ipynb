{
 "cells": [
  {
   "cell_type": "markdown",
   "id": "8bd991f4-227f-4078-9037-8db7b8f3edb5",
   "metadata": {},
   "source": [
    "# Data Sense Presents: The DSA LAB\n",
    "\n",
    "**How to Deal with Constants**"
   ]
  },
  {
   "cell_type": "markdown",
   "id": "c8d9d0ff-3696-4cf4-ae60-ce44a65f4ff6",
   "metadata": {},
   "source": [
    "**Constants in Time Complexity**\n",
    "\n",
    "When analyzing the time complexity of code, constants refer to fixed operations that don’t change as the size of input (n) changes. Let's break it down with examples.\n",
    "\n",
    "**Example 1: Constant Operations**"
   ]
  },
  {
   "cell_type": "code",
   "execution_count": 8,
   "id": "f075bf7f-5744-4809-95db-96917c19f969",
   "metadata": {},
   "outputs": [],
   "source": [
    "def add_numbers(a, b):\n",
    "    return a + b\n"
   ]
  },
  {
   "cell_type": "markdown",
   "id": "a23b7aaa-6971-4018-8d6b-688eee74ff60",
   "metadata": {},
   "source": [
    "**Analysis:** The function add_numbers takes two numbers a and b and returns their sum. Regardless of how large or small a and b are, this function always performs one operation.\n",
    "\n",
    "**Time Complexity:** O(1) (constant time). No matter the input size, the operation count is fixed."
   ]
  },
  {
   "cell_type": "markdown",
   "id": "bd99b613-c6f2-4777-8999-feef828c6706",
   "metadata": {},
   "source": [
    "**Example 2: A Loop with Constants**"
   ]
  },
  {
   "cell_type": "code",
   "execution_count": 12,
   "id": "67095e41-e447-4a5b-8bfd-06e6648095d4",
   "metadata": {},
   "outputs": [],
   "source": [
    "def print_first_five_elements(arr):\n",
    "    for i in range(5):\n",
    "        print(arr[i])\n"
   ]
  },
  {
   "cell_type": "markdown",
   "id": "643b878d-f282-4349-bdff-a01e5bbdb5c8",
   "metadata": {},
   "source": [
    "**Analysis:** This loop will always run exactly 5 times, irrespective of the length of the array arr.\n",
    "\n",
    "**Time Complexity:** This is still O(1) because it runs a constant number of times (5), which does not depend on n (the size of arr)."
   ]
  },
  {
   "cell_type": "markdown",
   "id": "f1966c77-fa5b-4687-84c0-22c4ec6b9c5b",
   "metadata": {},
   "source": [
    "# Why Do We Drop Constants?\n",
    "In big-O notation, we drop constants because they are not significant in representing how the function grows as n increases. The main idea is to focus on the growth rate, as this is what affects performance for large input sizes.\n",
    "\n",
    "**Example of Dropping Constants:**"
   ]
  },
  {
   "cell_type": "code",
   "execution_count": 16,
   "id": "5459f930-4a4c-4717-90a3-f24994368729",
   "metadata": {},
   "outputs": [],
   "source": [
    "def print_elements_twice(arr):\n",
    "    for i in range(len(arr)):\n",
    "        print(arr[i])  # Runs n times\n",
    "\n",
    "    for i in range(len(arr)):\n",
    "        print(arr[i])  # Runs n times\n"
   ]
  },
  {
   "cell_type": "markdown",
   "id": "877a27b2-42d9-4655-84b3-21cb6b400f1a",
   "metadata": {},
   "source": [
    "**Analysis:** This function has two loops, each running n times. You might think the time complexity is O(2n), but in Big-O, we drop the constant 2.\n",
    "\n",
    "**Simplified Time Complexity:** O(n). Whether it’s O(2n) or O(100n), the constant multiplier does not change how the function scales with n."
   ]
  },
  {
   "cell_type": "markdown",
   "id": "bbb491e1-dc5c-435d-993a-3143212d31e4",
   "metadata": {},
   "source": [
    "# Practical Questions and Assignment"
   ]
  },
  {
   "cell_type": "markdown",
   "id": "65eb53de-791e-4aa5-8b85-c1b0a649909e",
   "metadata": {},
   "source": [
    "**Code 1:**"
   ]
  },
  {
   "cell_type": "code",
   "execution_count": 22,
   "id": "07dc6682-062a-4737-9aa5-3ebec5b06198",
   "metadata": {},
   "outputs": [],
   "source": [
    "def sum_array(arr):\n",
    "    total = 0\n",
    "    for num in arr:\n",
    "        total += num\n",
    "    return total\n"
   ]
  },
  {
   "cell_type": "markdown",
   "id": "f1e0381c-1fde-45c2-8877-fe4867997d29",
   "metadata": {},
   "source": [
    "**Question 1:** What is the time complexity of sum_array?\n",
    "\n",
    "Think about how the loop behaves as n (length of arr) changes."
   ]
  },
  {
   "cell_type": "markdown",
   "id": "25f2f503-3439-44da-9dba-1e19495d13ee",
   "metadata": {},
   "source": [
    "### **Answer 1:**\n",
    "Time Complexity is O(n) , beacuse there is 1 loop which depends on the number of elements in arr."
   ]
  },
  {
   "cell_type": "markdown",
   "id": "e24900fc-6e59-4dcc-9dec-ecef74699dac",
   "metadata": {},
   "source": [
    "**Code 2: print_pairs**"
   ]
  },
  {
   "cell_type": "code",
   "execution_count": 26,
   "id": "5965fe00-f3c5-4482-a4ce-6849df10cb12",
   "metadata": {},
   "outputs": [],
   "source": [
    "def print_pairs(arr):\n",
    "    for i in range(len(arr)):\n",
    "        for j in range(len(arr)):\n",
    "            print(arr[i], arr[j])\n"
   ]
  },
  {
   "cell_type": "markdown",
   "id": "2a8981ff-d115-4c3c-ab4f-e3ebd8e4e565",
   "metadata": {},
   "source": [
    "**Question 2:** What is the time complexity of print_pairs?\n",
    "\n",
    "Notice how the nested loops work together. What happens when n is large?\n"
   ]
  },
  {
   "cell_type": "markdown",
   "id": "ca5985d1-5cb8-41b1-aecc-ef8ae69d930c",
   "metadata": {},
   "source": [
    "### **Answer 2:**\n",
    "Time Complexity is O(n^2) , because there are 2 loops nested within one another, and total pairs that will be printed \n",
    "are n square"
   ]
  },
  {
   "cell_type": "markdown",
   "id": "c4fbb77d-d88b-4449-ba6f-333a4341777e",
   "metadata": {},
   "source": [
    "**Code 3:**"
   ]
  },
  {
   "cell_type": "code",
   "execution_count": 30,
   "id": "d2a63bed-9fb6-4333-9340-5f76a131b50a",
   "metadata": {},
   "outputs": [],
   "source": [
    "def print_triples(arr):\n",
    "    for i in range(len(arr)):\n",
    "        for j in range(len(arr)):\n",
    "            for k in range(len(arr)):\n",
    "                print(arr[i], arr[j], arr[k])\n"
   ]
  },
  {
   "cell_type": "markdown",
   "id": "90b47af2-6943-4e0f-859f-b97bb156cea2",
   "metadata": {},
   "source": [
    "**Question 3:** What is the time complexity of print_triples?\n",
    "\n",
    "Understand how adding more loops increases the time complexity.\n"
   ]
  },
  {
   "cell_type": "markdown",
   "id": "7495a0b6-1948-460a-ae05-c0ede8d0c4e4",
   "metadata": {},
   "source": [
    "### **Answer 3:**\n",
    "Time Complexity is O(n^3),because there are 3 loops nested within one another, and total pairs that will be printed are n cube"
   ]
  },
  {
   "cell_type": "markdown",
   "id": "a9ac0a08-b2fc-4cfa-a4f4-b123df72342d",
   "metadata": {},
   "source": [
    "**Code 4: A Mix of Constants and Variable Loops**"
   ]
  },
  {
   "cell_type": "code",
   "execution_count": 34,
   "id": "c1e5c330-02f3-465d-8f39-780a2e520d90",
   "metadata": {},
   "outputs": [],
   "source": [
    "def mixed_operations(arr):\n",
    "    print(\"Hello!\")  \n",
    "    \n",
    "    for i in range(3):  \n",
    "        print(i)\n",
    "\n",
    "    for i in range(len(arr)): \n",
    "        print(arr[i])\n",
    "\n",
    "    for i in range(len(arr)):\n",
    "        for j in range(len(arr)):\n",
    "            print(arr[i], arr[j])  \n"
   ]
  },
  {
   "cell_type": "markdown",
   "id": "1053b05d-03b8-4b5e-866a-e290a7b13026",
   "metadata": {},
   "source": [
    "**Question 4:** What is the overall time complexity of mixed_operations?\n",
    "\n",
    "Think about how the different loops contribute to the overall complexity. Which term dominates?\n"
   ]
  },
  {
   "cell_type": "markdown",
   "id": "fdbb80f7-f404-487b-8513-bcf54c704432",
   "metadata": {},
   "source": [
    "### **Answer 4:**\n",
    "Time Complexity is O(n^2) , there are 3 operations with Time Complexity as constant , o(n), o(n^2) resp. So the biggest T.C removing constants and smaller power is n sqaure "
   ]
  },
  {
   "cell_type": "markdown",
   "id": "561aed81-9c73-406d-8860-79d400436785",
   "metadata": {},
   "source": [
    "**Code 5: Dropping Multiplicative Constants**"
   ]
  },
  {
   "cell_type": "code",
   "execution_count": 38,
   "id": "91c929eb-d5de-4474-b8e8-68db8b67d860",
   "metadata": {},
   "outputs": [],
   "source": [
    "def calculate_sum(arr):\n",
    "    total = 0\n",
    "    for i in range(len(arr)):  \n",
    "        total += arr[i]\n",
    "    \n",
    "    for i in range(10):  \n",
    "        print(\"Done\")\n",
    "    \n",
    "    for i in range(2 * len(arr)): \n",
    "        print(i)\n"
   ]
  },
  {
   "cell_type": "markdown",
   "id": "68eac46e-715e-4678-8fc4-a98608534cdf",
   "metadata": {},
   "source": [
    "**Question 5:** What is the simplified time complexity of calculate_sum?\n",
    "\n",
    "Note how the different loops behave and why we drop constants."
   ]
  },
  {
   "cell_type": "markdown",
   "id": "66425a98-3485-474f-881b-f41c5add1ba6",
   "metadata": {},
   "source": [
    "### **Answer 5:**\n",
    "Time Complexity is O(n), because there are 3 loops , o(n)+o(1)+o(2n), removing constant we have order TC AS O(n)"
   ]
  }
 ],
 "metadata": {
  "kernelspec": {
   "display_name": "Python 3 (ipykernel)",
   "language": "python",
   "name": "python3"
  },
  "language_info": {
   "codemirror_mode": {
    "name": "ipython",
    "version": 3
   },
   "file_extension": ".py",
   "mimetype": "text/x-python",
   "name": "python",
   "nbconvert_exporter": "python",
   "pygments_lexer": "ipython3",
   "version": "3.11.7"
  }
 },
 "nbformat": 4,
 "nbformat_minor": 5
}
