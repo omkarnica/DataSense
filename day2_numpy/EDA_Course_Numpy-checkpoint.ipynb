{
 "cells": [
  {
   "cell_type": "markdown",
   "id": "2a73d23c-ce67-4afd-ba67-5aece38e06bc",
   "metadata": {},
   "source": [
    "# Python EDA Full Course- Data Sense - Libraries:- 2. Numpy"
   ]
  },
  {
   "cell_type": "markdown",
   "id": "a2f8551d-2346-494d-95c9-03f16130242f",
   "metadata": {},
   "source": [
    "# 1. Introduction\n",
    "\n",
    "**Overview of Numpy**\n",
    "\n",
    "Numpy (Numerica Python) is a core library in Python for numerical computing. It provides support for large, multi-dimensional arrays and matrices, along with a collection of mathematical functions to operate on these arrays. Numpy is the foundation upon which many other data science and machine learning libraries, such as Pandas, SciPy, and TensorFlow, are built.\n",
    "\n",
    "**Why is it used?**\n",
    "\n",
    "Numpy is used because it allows you to perform efficient operations on large datasets. Compared to Python lists, Numpy arrays (ndarrays) consume less memory and provide better performance for mathematical operations. This efficiency is crucial when dealing with large-scale data in fields like data science, machine learning, and scientific computing.\n",
    "\n",
    "**When to use Numpy?**\n",
    "\n",
    "Use Numpy when you need to handle numerical data and perform mathematical operations on it. It's particularly useful for:\n",
    "\n",
    "**1. Array Manipulation:** Numpy provides a versatile set of tools to create, reshape, and manipulate arrays.\n",
    "\n",
    "**2. Mathematical Computations:** It offers a wide range of mathematical functions, including statistical, algebraic, and trigonometric functions.\n",
    "\n",
    "**3. Performance:** Numpy is optimized for performance, making it suitable for operations on large datasets."
   ]
  },
  {
   "cell_type": "markdown",
   "id": "1c83ff7b-ba5b-4f00-a2a0-1bc8bd8c4fcb",
   "metadata": {},
   "source": [
    "# 2. What This Library Does\n",
    "\n",
    "**1. N-dimensional Arrays (ndarray)**\n",
    "\n",
    "**Explanation:**\n",
    "\n",
    "Numpy's core data structure is the ndarray, which stands for \"N-dimensional array\". An ndarray is a generalization of a matrix, and it can have any number of dimensions (hence the name \"N-dimensional\").\n",
    "\n",
    "**Why use Numpy arrays instead of Python lists?**\n",
    "\n",
    "Homogeneous Data: Numpy arrays are designed to handle homogeneous data (i.e., data of the same type). This allows for more efficient storage and processing compared to Python lists, which can hold mixed data types.\n",
    "Vectorized Operations: Numpy arrays support vectorized operations, meaning that operations applied to the array are automatically applied element-wise. This eliminates the need for explicit loops and makes the code more concise and efficient.\n",
    "Broadcasting: Numpy allows operations on arrays of different shapes and sizes without requiring explicit copying or resizing. This is known as broadcasting, and it simplifies many types of calculations.\n",
    "\n",
    "**Example 1: Creating a Numpy array**"
   ]
  },
  {
   "cell_type": "code",
   "execution_count": 7,
   "id": "fdcdd255-6d40-4c92-98a2-6be879dee425",
   "metadata": {},
   "outputs": [
    {
     "name": "stdout",
     "output_type": "stream",
     "text": [
      "[1 2 3 4 5]\n"
     ]
    }
   ],
   "source": [
    "import numpy as np\n",
    "array = np.array([1, 2, 3, 4, 5])\n",
    "print(array)\n"
   ]
  },
  {
   "cell_type": "markdown",
   "id": "dcc0d617-e74c-4bb2-b2bc-316f20ec80da",
   "metadata": {},
   "source": [
    "**Explanation:**\n",
    "  \n",
    "This code creates a one-dimensional Numpy array with the values [1, 2, 3, 4, 5]. A Numpy array is similar to a Python list, but it is much more powerful in terms of mathematical and numerical operations."
   ]
  },
  {
   "cell_type": "markdown",
   "id": "ad4e4b52-d29d-4634-8c29-2eaa557e8939",
   "metadata": {},
   "source": [
    "**Example 2: Creating a 2D Numpy array (matrix)**"
   ]
  },
  {
   "cell_type": "code",
   "execution_count": 12,
   "id": "b9dc7ef2-b117-45b4-9b5f-e022f150bac8",
   "metadata": {},
   "outputs": [
    {
     "name": "stdout",
     "output_type": "stream",
     "text": [
      "[[1 2 3]\n",
      " [4 5 6]]\n"
     ]
    }
   ],
   "source": [
    "# Creating a 2D Numpy array (matrix)\n",
    "matrix = np.array([[1, 2, 3], [4, 5, 6]])\n",
    "print(matrix)\n"
   ]
  },
  {
   "cell_type": "markdown",
   "id": "a6ba6841-f68a-4893-b7f8-ac8c9316c9cd",
   "metadata": {},
   "source": [
    "**Explanation:** Here, we create a two-dimensional array, often referred to as a matrix. This matrix has 2 rows and 3 columns. Unlike Python lists, Numpy arrays can efficiently handle multi-dimensional data structures like matrices and tensors.\n"
   ]
  },
  {
   "cell_type": "markdown",
   "id": "c51c390f-125b-48c6-bcd5-c3ac1e55e0ef",
   "metadata": {},
   "source": [
    "**2. Mathematical Operations**\n",
    "\n",
    "Numpy is built to perform fast, efficient mathematical operations on arrays. These operations can be as simple as element-wise addition or as complex as matrix multiplication.\n",
    "\n",
    "**Why are mathematical operations with Numpy important?**\n",
    "\n",
    "**Efficiency:** Numpy's mathematical functions are implemented in C, making them much faster than equivalent operations in pure Python.\n",
    "\n",
    "**Simplicity:** Numpy's vectorized operations allow you to apply mathematical functions to entire arrays without needing to write explicit loops.\n",
    "\n",
    "**Functionality:** Numpy includes a wide range of mathematical functions, including basic arithmetic, linear algebra, trigonometry, and more, making it a powerful tool for numerical analysis.\n",
    "\n",
    "**Example 1: Element-wise operations**"
   ]
  },
  {
   "cell_type": "code",
   "execution_count": 16,
   "id": "d624353b-8c5a-46a3-a168-f1e5f7a450f2",
   "metadata": {},
   "outputs": [
    {
     "name": "stdout",
     "output_type": "stream",
     "text": [
      "[11 12 13 14]\n"
     ]
    }
   ],
   "source": [
    "# Creating an array and performing element-wise operations\n",
    "array = np.array([1, 2, 3, 4])\n",
    "array = array + 10\n",
    "print(array)\n"
   ]
  },
  {
   "cell_type": "markdown",
   "id": "f45d8d0e-39ed-4ccd-afda-bb427ee250cd",
   "metadata": {},
   "source": [
    "**Explanation:** This example creates an array [1, 2, 3, 4] and adds 10 to each element. Numpy automatically applies the operation to each element, leveraging broadcasting. Broadcasting allows operations to be applied across arrays of different shapes, which simplifies the code and improves efficiency.\n"
   ]
  },
  {
   "cell_type": "markdown",
   "id": "ba101848-d724-4514-96c5-9d40c44f5ed6",
   "metadata": {},
   "source": [
    "**Example 2: Matrix multiplication**\n",
    "\n"
   ]
  },
  {
   "cell_type": "code",
   "execution_count": 20,
   "id": "7ae9455f-8b37-4e02-b270-285be520cad6",
   "metadata": {},
   "outputs": [
    {
     "name": "stdout",
     "output_type": "stream",
     "text": [
      "[[19 22]\n",
      " [43 50]]\n"
     ]
    }
   ],
   "source": [
    "# Creating two matrices and performing matrix multiplication\n",
    "matrix_a = np.array([[1, 2], [3, 4]])\n",
    "matrix_b = np.array([[5, 6], [7, 8]])\n",
    "result = np.dot(matrix_a, matrix_b)\n",
    "print(result)\n"
   ]
  },
  {
   "cell_type": "markdown",
   "id": "8dbee74e-6e83-4d28-b3cf-bbd12c694884",
   "metadata": {},
   "source": [
    "**Explanation:** Matrix multiplication is a fundamental operation in linear algebra. In this example, np.dot() performs matrix multiplication between matrix_a and matrix_b. The operation multiplies corresponding elements from rows and columns and sums them up to produce the resulting matrix."
   ]
  },
  {
   "cell_type": "markdown",
   "id": "f829351c-6e30-4cd0-9e2e-1fbd53f30edf",
   "metadata": {},
   "source": [
    "**3. Array Reshaping**\n",
    "\n",
    "Numpy allows you to change the shape of an array without modifying its data. Reshaping is a powerful feature that is particularly useful when preparing data for machine learning algorithms or when manipulating data in different dimensions.\n",
    "\n",
    "**Why reshape arrays?**\n",
    "    \n",
    "**Data Preparation:** Many machine learning algorithms require input data to be in a specific shape, such as a matrix or tensor. Reshaping allows you to convert your data into the necessary format without altering the data itself.\n",
    "\n",
    "**Flexibility:** Reshaping allows you to switch between different views of your data, making it easier to apply different operations and analyses.\n",
    "\n",
    "**Example 1: Reshaping an array**"
   ]
  },
  {
   "cell_type": "code",
   "execution_count": 24,
   "id": "c4113d81-6577-4ae5-a76c-d662b0b79ecb",
   "metadata": {},
   "outputs": [
    {
     "name": "stdout",
     "output_type": "stream",
     "text": [
      "[[1 2 3]\n",
      " [4 5 6]]\n"
     ]
    }
   ],
   "source": [
    "# Creating a 1D array and reshaping it into a 2D array\n",
    "array = np.array([1, 2, 3, 4, 5, 6])\n",
    "reshaped_array = array.reshape((2, 3))\n",
    "print(reshaped_array)\n"
   ]
  },
  {
   "cell_type": "markdown",
   "id": "558c4946-fb4b-4e12-936b-040a22636dc0",
   "metadata": {},
   "source": [
    "**Explanation:** In this example, a 1D array with 6 elements is reshaped into a 2D array with 2 rows and 3 columns. The total number of elements must remain the same after reshaping. This operation is useful for converting flat data into a more structured form."
   ]
  },
  {
   "cell_type": "markdown",
   "id": "e6012b2c-870e-4b6c-b98e-99e3dd2b64f2",
   "metadata": {},
   "source": [
    "**Example 2: Flattening an array**"
   ]
  },
  {
   "cell_type": "code",
   "execution_count": 27,
   "id": "609711b6-0f44-4611-a630-57e8ad2bf42b",
   "metadata": {},
   "outputs": [
    {
     "name": "stdout",
     "output_type": "stream",
     "text": [
      "[1 2 3 4 5 6]\n"
     ]
    }
   ],
   "source": [
    "# Flattening a 2D array into a 1D array\n",
    "matrix = np.array([[1, 2, 3], [4, 5, 6]])\n",
    "flat_array = matrix.flatten()\n",
    "print(flat_array)\n"
   ]
  },
  {
   "cell_type": "markdown",
   "id": "46b95069-23f0-41ea-9c66-29a9f139f544",
   "metadata": {},
   "source": [
    "**Explanation:** The flatten() method converts a multi-dimensional array into a one-dimensional array. This is the reverse of reshaping, and it's often used when you need to reduce the dimensionality of your data for certain types of analysis or when passing data to functions that require a flat input.\n"
   ]
  },
  {
   "cell_type": "markdown",
   "id": "68e65299-7759-4468-94f8-82a03bdd02a4",
   "metadata": {},
   "source": [
    "**4. Advanced Array Operations**\n",
    "    \n",
    "**Array Slicing and Indexing**\n",
    "    \n",
    "**Explanation:** Slicing and indexing allow you to access and modify specific elements or subsets of an array. This is similar to how you slice lists in Python, but with more powerful capabilities.\n",
    "\n",
    "**Example 1: Basic Slicing**"
   ]
  },
  {
   "cell_type": "code",
   "execution_count": 32,
   "id": "f4cd44dc-3bdb-40d4-a0fd-3f50c0dfc23c",
   "metadata": {},
   "outputs": [
    {
     "name": "stdout",
     "output_type": "stream",
     "text": [
      "[20 30 40]\n"
     ]
    }
   ],
   "source": [
    "import numpy as np\n",
    "\n",
    "array = np.array([10, 20, 30, 40, 50])\n",
    "slice_1 = array[1:4]  # Access elements from index 1 to 3\n",
    "print(slice_1)\n"
   ]
  },
  {
   "cell_type": "markdown",
   "id": "e6388a8a-018c-4601-b9b7-8b60a73e1ca3",
   "metadata": {},
   "source": [
    "**Explanation:** This example demonstrates how to slice an array to access a subset of its elements. The slice [1:4] returns elements from index 1 to 3 (20, 30, 40).\n",
    "\n",
    "**Example 2: Slicing a 2D Array**"
   ]
  },
  {
   "cell_type": "code",
   "execution_count": 35,
   "id": "0d0012f3-56cf-4770-a393-b1e5178a9999",
   "metadata": {},
   "outputs": [
    {
     "name": "stdout",
     "output_type": "stream",
     "text": [
      "[[2 3]\n",
      " [5 6]]\n"
     ]
    }
   ],
   "source": [
    "matrix = np.array([[1, 2, 3], [4, 5, 6], [7, 8, 9]])\n",
    "slice_2 = matrix[:2, 1:3]  # Access a submatrix\n",
    "print(slice_2)\n"
   ]
  },
  {
   "cell_type": "markdown",
   "id": "d7455d6e-9b2b-4e77-8fef-c736cd2080a3",
   "metadata": {},
   "source": [
    "**Explanation:** Slicing can also be applied to multi-dimensional arrays. Here, matrix[:2, 1:3] extracts a 2x2 submatrix.\n",
    "\n",
    "**Boolean Indexing**\n",
    "\n",
    "**Explanation:** Boolean indexing allows you to filter elements of an array based on conditions.\n",
    "    \n",
    "**Example: Filtering with Boolean Indexing**"
   ]
  },
  {
   "cell_type": "code",
   "execution_count": 38,
   "id": "f9044c23-b4bb-486c-9bb2-2003c292fc1d",
   "metadata": {},
   "outputs": [
    {
     "name": "stdout",
     "output_type": "stream",
     "text": [
      "[30 40 50]\n"
     ]
    }
   ],
   "source": [
    "array = np.array([10, 20, 30, 40, 50])\n",
    "filtered_array = array[array > 25]  # Filter elements greater than 25\n",
    "print(filtered_array)\n"
   ]
  },
  {
   "cell_type": "markdown",
   "id": "e68059cc-a9db-4e5d-b194-a034f6a89e91",
   "metadata": {},
   "source": [
    "**Explanation:** This example shows how to use a boolean condition to filter an array. The resulting array contains only elements greater than 25.\n",
    "\n",
    "**5. Mathematical Functions**\n",
    "\n",
    "**A.Aggregation Functions**\n",
    "\n",
    "**Explanation:** Aggregation functions compute a summary statistic (e.g., sum, mean, max) across the elements of an array.\n",
    "\n",
    "**Example 1: Sum and Mean**"
   ]
  },
  {
   "cell_type": "code",
   "execution_count": 41,
   "id": "2c8759a1-87c1-4590-8059-99b1bdfa6819",
   "metadata": {},
   "outputs": [
    {
     "name": "stdout",
     "output_type": "stream",
     "text": [
      "Sum: 15\n",
      "Mean: 3.0\n"
     ]
    }
   ],
   "source": [
    "array = np.array([1, 2, 3, 4, 5])\n",
    "total_sum = np.sum(array)\n",
    "average = np.mean(array)\n",
    "print(\"Sum:\", total_sum)\n",
    "print(\"Mean:\", average)\n"
   ]
  },
  {
   "cell_type": "markdown",
   "id": "d06bb900-2854-40fa-891b-1536a05921ee",
   "metadata": {},
   "source": [
    "**Explanation:** np.sum() computes the sum of all elements, while np.mean() calculates the average. These are common operations when analyzing data.\n",
    "\n",
    "**Example 2: Maximum and Minimum**"
   ]
  },
  {
   "cell_type": "code",
   "execution_count": 44,
   "id": "66075878-7610-4a3e-9247-1905dc796b74",
   "metadata": {},
   "outputs": [
    {
     "name": "stdout",
     "output_type": "stream",
     "text": [
      "Max: 9\n",
      "Min: 1\n"
     ]
    }
   ],
   "source": [
    "matrix = np.array([[1, 2, 3], [4, 5, 6], [7, 8, 9]])\n",
    "max_value = np.max(matrix)\n",
    "min_value = np.min(matrix)\n",
    "print(\"Max:\", max_value)\n",
    "print(\"Min:\", min_value)\n"
   ]
  },
  {
   "cell_type": "markdown",
   "id": "7606e381-0c75-4542-9921-31a847678af5",
   "metadata": {},
   "source": [
    "**Explanation:** np.max() and np.min() return the maximum and minimum values in the array, respectively. These functions are useful for finding the range of data.\n",
    "\n",
    "**6. Linear Algebra Operations**\n",
    "\n",
    "**Dot Product**\n",
    "\n",
    "**Explanation:** The dot product is a key operation in linear algebra, used in many applications including machine learning algorithms.\n",
    "\n",
    "**Example: Dot Product of Vectors**"
   ]
  },
  {
   "cell_type": "code",
   "execution_count": 47,
   "id": "71b6ee29-4d3d-4702-8340-41f19ca3287b",
   "metadata": {},
   "outputs": [
    {
     "name": "stdout",
     "output_type": "stream",
     "text": [
      "11\n"
     ]
    }
   ],
   "source": [
    "vector_a = np.array([1, 2])\n",
    "vector_b = np.array([3, 4])\n",
    "dot_product = np.dot(vector_a, vector_b)\n",
    "print(dot_product)\n"
   ]
  },
  {
   "cell_type": "markdown",
   "id": "e0e75bb4-204d-45cf-a5ae-b9955cd49587",
   "metadata": {},
   "source": [
    "**Explanation:** The dot product of two vectors is calculated by multiplying corresponding elements and summing the results. In this example, the dot product is 1*3 + 2*4 = 11.\n",
    "\n",
    "**Matrix Multiplication**\n",
    "\n",
    "**Explanation:** Matrix multiplication is a fundamental operation for many linear algebra applications.\n",
    "\n",
    "**Example: Matrix Multiplication**"
   ]
  },
  {
   "cell_type": "code",
   "execution_count": 50,
   "id": "8018e10f-1065-44e4-b35a-9e09d2496fc0",
   "metadata": {},
   "outputs": [
    {
     "name": "stdout",
     "output_type": "stream",
     "text": [
      "[[19 22]\n",
      " [43 50]]\n"
     ]
    }
   ],
   "source": [
    "matrix_a = np.array([[1, 2], [3, 4]])\n",
    "matrix_b = np.array([[5, 6], [7, 8]])\n",
    "product = np.dot(matrix_a, matrix_b)\n",
    "print(product)\n"
   ]
  },
  {
   "cell_type": "markdown",
   "id": "b6a41284-9763-4e96-9c3a-cb3cf68b7ef3",
   "metadata": {},
   "source": [
    "**Explanation:** This example demonstrates matrix multiplication, a critical operation in fields like machine learning, computer graphics, and data science.\n",
    "\n",
    "**7. Random Number Generation**\n",
    "\n",
    "**Generating Random Numbers**\n",
    "\n",
    "**Explanation:** Numpy provides tools to generate random numbers, which is essential for simulations, initializing algorithms, and more.\n",
    "\n",
    "**Example 1: Uniform Distribution**"
   ]
  },
  {
   "cell_type": "code",
   "execution_count": 53,
   "id": "a8499014-e138-412f-a5af-6fd5196eafa9",
   "metadata": {},
   "outputs": [
    {
     "name": "stdout",
     "output_type": "stream",
     "text": [
      "[[0.25165855 0.98502919 0.51178389]\n",
      " [0.31131826 0.02912465 0.19642312]\n",
      " [0.23448057 0.64541882 0.06229112]]\n"
     ]
    }
   ],
   "source": [
    "random_array = np.random.rand(3, 3)  # 3x3 matrix of random numbers\n",
    "print(random_array)\n"
   ]
  },
  {
   "cell_type": "markdown",
   "id": "e48716c8-3ed3-4399-b139-25a6bc1a45b6",
   "metadata": {},
   "source": [
    "**Explanation:** np.random.rand() generates random numbers uniformly distributed between 0 and 1.\n",
    "\n",
    "**Example 2: Normal Distribution**"
   ]
  },
  {
   "cell_type": "code",
   "execution_count": 56,
   "id": "04939745-8db4-4b07-81f4-70900669e409",
   "metadata": {},
   "outputs": [
    {
     "name": "stdout",
     "output_type": "stream",
     "text": [
      "[[ 0.20785436  0.29375132 -0.35294785]\n",
      " [-1.58776581 -0.0971634  -0.30921215]\n",
      " [-0.0539576   0.17184343 -1.14954557]]\n"
     ]
    }
   ],
   "source": [
    "normal_array = np.random.randn(3, 3)  # 3x3 matrix of normally distributed numbers\n",
    "print(normal_array)\n"
   ]
  },
  {
   "cell_type": "markdown",
   "id": "279f77d2-c6b7-4283-8e0e-a5795bebbfca",
   "metadata": {},
   "source": [
    "**Explanation:** np.random.randn() generates random numbers from a standard normal distribution (mean 0, variance 1).\n",
    "\n",
    "# 9. Assignments\n",
    "\n",
    "**Basic Assignments**\n",
    "\n",
    "1. Create a 1D Numpy array with 10 elements and access the 5th element.\n",
    "2. Create a 3x3 identity matrix.\n",
    "   \n",
    "**Intermediate Assignments**\n",
    "\n",
    "1. Given a 2D array, find the sum of all elements in each row.\n",
    "2. Generate a 5x5 matrix with random numbers and calculate the mean and standard deviation.\n",
    "   \n",
    "# Advanced Assignments\n",
    "\n",
    "Perform matrix multiplication on two 3x3 matrices and verify the result manually.\n"
   ]
  },
  {
   "cell_type": "code",
   "execution_count": 3,
   "id": "8cf20385-0542-435d-b405-626a32572dff",
   "metadata": {},
   "outputs": [],
   "source": [
    "import numpy as np"
   ]
  },
  {
   "cell_type": "code",
   "execution_count": 5,
   "id": "95f8b6a3-8f5b-4943-8cf7-64cfcbab53f1",
   "metadata": {},
   "outputs": [
    {
     "data": {
      "text/plain": [
       "5"
      ]
     },
     "execution_count": 5,
     "metadata": {},
     "output_type": "execute_result"
    }
   ],
   "source": [
    "#1 \n",
    " \n",
    "arr=np.array([1,2,3,4,5,6,7,8,9,0])\n",
    "arr[4]"
   ]
  },
  {
   "cell_type": "code",
   "execution_count": 22,
   "id": "d6027be0-d4aa-4041-9754-ce99b5287583",
   "metadata": {},
   "outputs": [
    {
     "name": "stdout",
     "output_type": "stream",
     "text": [
      "[[1 0 0]\n",
      " [0 1 0]\n",
      " [0 0 1]]\n"
     ]
    }
   ],
   "source": [
    "#2\n",
    "id=np.array([[1,0,0],[0,1,0],[0,0,1]])\n",
    "print (id)"
   ]
  },
  {
   "cell_type": "code",
   "execution_count": 12,
   "id": "6d711d79-3ba5-4ee6-814d-0065d8378557",
   "metadata": {},
   "outputs": [
    {
     "name": "stdout",
     "output_type": "stream",
     "text": [
      "[[1 0 0]\n",
      " [0 1 0]\n",
      " [0 0 1]]\n"
     ]
    }
   ],
   "source": [
    "#another way \n",
    "id1=np.identity(3,dtype=int)\n",
    "print(id1)"
   ]
  },
  {
   "cell_type": "code",
   "execution_count": 34,
   "id": "36a7c522-ac11-4f96-91aa-73f716a53ede",
   "metadata": {},
   "outputs": [
    {
     "name": "stdout",
     "output_type": "stream",
     "text": [
      "[3 7]\n"
     ]
    }
   ],
   "source": [
    "#1\n",
    "a=np.array([[1,2],[3,4]])\n",
    "row_sum=np.sum(a,axis=1)\n",
    "print(res)"
   ]
  },
  {
   "cell_type": "code",
   "execution_count": 32,
   "id": "589055cc-4567-48f7-94d9-ff3199bdcc0d",
   "metadata": {},
   "outputs": [
    {
     "name": "stdout",
     "output_type": "stream",
     "text": [
      "[[0.28914104 0.25869732 0.16099666 0.12275935 0.3216284 ]\n",
      " [0.95183281 0.52847876 0.98367625 0.38898196 0.41560866]\n",
      " [0.31448023 0.6381302  0.54748194 0.24018351 0.85878659]\n",
      " [0.92763903 0.50319962 0.84696319 0.8572616  0.50933801]\n",
      " [0.19708168 0.46945299 0.4464078  0.68621181 0.10403401]]\n",
      "0.5027381356363831\n",
      "0.2698080680344437\n"
     ]
    }
   ],
   "source": [
    "#2\n",
    "b=np.random.rand(5,5)\n",
    "print(b)\n",
    "print(b.mean())\n",
    "print(b.std())"
   ]
  },
  {
   "cell_type": "code",
   "execution_count": 40,
   "id": "e35677e7-c1e8-4ed9-b349-03a1e0f644a6",
   "metadata": {},
   "outputs": [
    {
     "name": "stdout",
     "output_type": "stream",
     "text": [
      "[[1 2 3]\n",
      " [2 1 3]\n",
      " [2 3 1]]\n"
     ]
    }
   ],
   "source": [
    "#Perform matrix multiplication on two 3x3 matrices and verify the result manually.\n",
    "x=np.array([[1,0,0],[0,1,0],[0,0,1]])\n",
    "y=np.array([[1,2,3],[2,1,3],[2,3,1]])\n",
    "prod=np.dot(x,y)\n",
    "print(prod)"
   ]
  },
  {
   "cell_type": "code",
   "execution_count": null,
   "id": "4befb78a-f0e8-4c82-811b-62de1a07b099",
   "metadata": {},
   "outputs": [],
   "source": []
  }
 ],
 "metadata": {
  "kernelspec": {
   "display_name": "Python 3 (ipykernel)",
   "language": "python",
   "name": "python3"
  },
  "language_info": {
   "codemirror_mode": {
    "name": "ipython",
    "version": 3
   },
   "file_extension": ".py",
   "mimetype": "text/x-python",
   "name": "python",
   "nbconvert_exporter": "python",
   "pygments_lexer": "ipython3",
   "version": "3.11.7"
  }
 },
 "nbformat": 4,
 "nbformat_minor": 5
}
